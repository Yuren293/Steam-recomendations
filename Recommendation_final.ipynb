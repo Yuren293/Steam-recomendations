{
 "cells": [
  {
   "cell_type": "code",
   "execution_count": 1,
   "metadata": {},
   "outputs": [
    {
     "name": "stderr",
     "output_type": "stream",
     "text": [
      "C:\\ProgramData\\Anaconda3\\lib\\site-packages\\lightfm\\_lightfm_fast.py:10: UserWarning: LightFM was compiled without OpenMP support. Only a single thread will be used.\n",
      "  \"LightFM was compiled without OpenMP support. \"\n",
      "[nltk_data] Downloading package stopwords to\n",
      "[nltk_data]     C:\\Users\\ivanov.evgeny\\AppData\\Roaming\\nltk_data...\n",
      "[nltk_data]   Package stopwords is already up-to-date!\n",
      "[nltk_data] Downloading package wordnet to\n",
      "[nltk_data]     C:\\Users\\ivanov.evgeny\\AppData\\Roaming\\nltk_data...\n",
      "[nltk_data]   Package wordnet is already up-to-date!\n",
      "C:\\ProgramData\\Anaconda3\\lib\\site-packages\\statsmodels\\tools\\_testing.py:19: FutureWarning: pandas.util.testing is deprecated. Use the functions in the public API at pandas.testing instead.\n",
      "  import pandas.util.testing as tm\n"
     ]
    }
   ],
   "source": [
    "import pandas as pd\n",
    "import numpy as np\n",
    "from lightfm import LightFM\n",
    "from lightfm.evaluation import precision_at_k as p_k_lfm\n",
    "from lightfm.evaluation import auc_score\n",
    "import gensim\n",
    "import nltk\n",
    "import re\n",
    "import pymorphy2\n",
    "from tqdm import tqdm_notebook\n",
    "from scipy.sparse import csr_matrix\n",
    "nltk.download(\"stopwords\")\n",
    "nltk.download('wordnet')\n",
    "from nltk.corpus import stopwords\n",
    "from gensim.models import word2vec\n",
    "from nltk.stem import WordNetLemmatizer\n",
    "from sklearn.feature_extraction.text import TfidfVectorizer\n",
    "import matplotlib.pyplot as plt\n",
    "import seaborn as sns\n",
    "from sklearn.preprocessing import StandardScaler\n",
    "from tqdm import tqdm_notebook\n",
    "from collections import Counter"
   ]
  },
  {
   "cell_type": "markdown",
   "metadata": {},
   "source": [
    "### Описание задачи\n",
    "В качестве данных для рекомендательной системы взята информация о количестве игрового времени пользователей с игровой платформы Steam с описаниями игр.\n",
    "\n",
    "В файле steam-200k.csv представлена информация о пользователях и играх, которые он приобрел и играет, а также количество игрового времени в них.    \n",
    "Файл steam.csv представляет собой описание игр, включающее название, дату релиза, жанр игр, разработчиков и так далее.   \n",
    "Файл steam_description_data.csv содержит текстовое рекламное описание игр.     \n",
    "\n",
    "Источники данных:   \n",
    "https://www.kaggle.com/nikdavis/steam-store-games   \n",
    "https://www.kaggle.com/tamber/steam-video-games\n",
    "\n",
    "В качестве метрики качества классификации используется mean average precision@k.\n",
    "\n",
    "Данная работа состоит из следующих частей:\n",
    "\n",
    "1) Работа с данными   \n",
    "2) Разделение данных на train/test   \n",
    "3) Метрика качества рекомендаций   \n",
    "4) Popular base подход   \n",
    "5) FM   \n",
    "6) Content base подход   \n",
    "   6.1) Подготовка векторных представлений   \n",
    "   6.2) Word2Vec   \n",
    "   6.3) TF-IDF   \n",
    "7) LightFM + text   \n",
    "8) Сравнение рекомендаций   \n",
    "9) Результаты"
   ]
  },
  {
   "cell_type": "markdown",
   "metadata": {},
   "source": [
    "### 1) Работа с данными"
   ]
  },
  {
   "cell_type": "code",
   "execution_count": 2,
   "metadata": {},
   "outputs": [
    {
     "data": {
      "text/html": [
       "<div>\n",
       "<style scoped>\n",
       "    .dataframe tbody tr th:only-of-type {\n",
       "        vertical-align: middle;\n",
       "    }\n",
       "\n",
       "    .dataframe tbody tr th {\n",
       "        vertical-align: top;\n",
       "    }\n",
       "\n",
       "    .dataframe thead th {\n",
       "        text-align: right;\n",
       "    }\n",
       "</style>\n",
       "<table border=\"1\" class=\"dataframe\">\n",
       "  <thead>\n",
       "    <tr style=\"text-align: right;\">\n",
       "      <th></th>\n",
       "      <th>user_id</th>\n",
       "      <th>item_name</th>\n",
       "      <th>play</th>\n",
       "      <th>play_hours</th>\n",
       "      <th>col_5</th>\n",
       "    </tr>\n",
       "  </thead>\n",
       "  <tbody>\n",
       "    <tr>\n",
       "      <th>0</th>\n",
       "      <td>151603712</td>\n",
       "      <td>The Elder Scrolls V Skyrim</td>\n",
       "      <td>purchase</td>\n",
       "      <td>1.0</td>\n",
       "      <td>0</td>\n",
       "    </tr>\n",
       "    <tr>\n",
       "      <th>1</th>\n",
       "      <td>151603712</td>\n",
       "      <td>The Elder Scrolls V Skyrim</td>\n",
       "      <td>play</td>\n",
       "      <td>273.0</td>\n",
       "      <td>0</td>\n",
       "    </tr>\n",
       "    <tr>\n",
       "      <th>2</th>\n",
       "      <td>151603712</td>\n",
       "      <td>Fallout 4</td>\n",
       "      <td>purchase</td>\n",
       "      <td>1.0</td>\n",
       "      <td>0</td>\n",
       "    </tr>\n",
       "    <tr>\n",
       "      <th>3</th>\n",
       "      <td>151603712</td>\n",
       "      <td>Fallout 4</td>\n",
       "      <td>play</td>\n",
       "      <td>87.0</td>\n",
       "      <td>0</td>\n",
       "    </tr>\n",
       "    <tr>\n",
       "      <th>4</th>\n",
       "      <td>151603712</td>\n",
       "      <td>Spore</td>\n",
       "      <td>purchase</td>\n",
       "      <td>1.0</td>\n",
       "      <td>0</td>\n",
       "    </tr>\n",
       "  </tbody>\n",
       "</table>\n",
       "</div>"
      ],
      "text/plain": [
       "     user_id                   item_name      play  play_hours  col_5\n",
       "0  151603712  The Elder Scrolls V Skyrim  purchase         1.0      0\n",
       "1  151603712  The Elder Scrolls V Skyrim      play       273.0      0\n",
       "2  151603712                   Fallout 4  purchase         1.0      0\n",
       "3  151603712                   Fallout 4      play        87.0      0\n",
       "4  151603712                       Spore  purchase         1.0      0"
      ]
     },
     "execution_count": 2,
     "metadata": {},
     "output_type": "execute_result"
    }
   ],
   "source": [
    "# Данные взаимодействий\n",
    "data = pd.read_csv(\"steam-200k.csv\",names = [\"user_id\",\"item_name\",\"play\",\"play_hours\",\"col_5\"]) \n",
    "data.head()"
   ]
  },
  {
   "cell_type": "code",
   "execution_count": 3,
   "metadata": {},
   "outputs": [
    {
     "data": {
      "text/html": [
       "<div>\n",
       "<style scoped>\n",
       "    .dataframe tbody tr th:only-of-type {\n",
       "        vertical-align: middle;\n",
       "    }\n",
       "\n",
       "    .dataframe tbody tr th {\n",
       "        vertical-align: top;\n",
       "    }\n",
       "\n",
       "    .dataframe thead th {\n",
       "        text-align: right;\n",
       "    }\n",
       "</style>\n",
       "<table border=\"1\" class=\"dataframe\">\n",
       "  <thead>\n",
       "    <tr style=\"text-align: right;\">\n",
       "      <th></th>\n",
       "      <th>user_id</th>\n",
       "      <th>item_name</th>\n",
       "      <th>play</th>\n",
       "      <th>play_hours</th>\n",
       "      <th>col_5</th>\n",
       "    </tr>\n",
       "  </thead>\n",
       "  <tbody>\n",
       "    <tr>\n",
       "      <th>1</th>\n",
       "      <td>151603712</td>\n",
       "      <td>The Elder Scrolls V Skyrim</td>\n",
       "      <td>play</td>\n",
       "      <td>273.0</td>\n",
       "      <td>0</td>\n",
       "    </tr>\n",
       "    <tr>\n",
       "      <th>3</th>\n",
       "      <td>151603712</td>\n",
       "      <td>Fallout 4</td>\n",
       "      <td>play</td>\n",
       "      <td>87.0</td>\n",
       "      <td>0</td>\n",
       "    </tr>\n",
       "    <tr>\n",
       "      <th>5</th>\n",
       "      <td>151603712</td>\n",
       "      <td>Spore</td>\n",
       "      <td>play</td>\n",
       "      <td>14.9</td>\n",
       "      <td>0</td>\n",
       "    </tr>\n",
       "    <tr>\n",
       "      <th>7</th>\n",
       "      <td>151603712</td>\n",
       "      <td>Fallout New Vegas</td>\n",
       "      <td>play</td>\n",
       "      <td>12.1</td>\n",
       "      <td>0</td>\n",
       "    </tr>\n",
       "    <tr>\n",
       "      <th>9</th>\n",
       "      <td>151603712</td>\n",
       "      <td>Left 4 Dead 2</td>\n",
       "      <td>play</td>\n",
       "      <td>8.9</td>\n",
       "      <td>0</td>\n",
       "    </tr>\n",
       "  </tbody>\n",
       "</table>\n",
       "</div>"
      ],
      "text/plain": [
       "     user_id                   item_name  play  play_hours  col_5\n",
       "1  151603712  The Elder Scrolls V Skyrim  play       273.0      0\n",
       "3  151603712                   Fallout 4  play        87.0      0\n",
       "5  151603712                       Spore  play        14.9      0\n",
       "7  151603712           Fallout New Vegas  play        12.1      0\n",
       "9  151603712               Left 4 Dead 2  play         8.9      0"
      ]
     },
     "execution_count": 3,
     "metadata": {},
     "output_type": "execute_result"
    }
   ],
   "source": [
    "# Оставляем только те игры, в которые реально играют\n",
    "data_play = data[data.play == \"play\"]\n",
    "data_play.head()"
   ]
  },
  {
   "cell_type": "code",
   "execution_count": 4,
   "metadata": {},
   "outputs": [
    {
     "data": {
      "text/html": [
       "<div>\n",
       "<style scoped>\n",
       "    .dataframe tbody tr th:only-of-type {\n",
       "        vertical-align: middle;\n",
       "    }\n",
       "\n",
       "    .dataframe tbody tr th {\n",
       "        vertical-align: top;\n",
       "    }\n",
       "\n",
       "    .dataframe thead th {\n",
       "        text-align: right;\n",
       "    }\n",
       "</style>\n",
       "<table border=\"1\" class=\"dataframe\">\n",
       "  <thead>\n",
       "    <tr style=\"text-align: right;\">\n",
       "      <th></th>\n",
       "      <th>appid</th>\n",
       "      <th>name</th>\n",
       "      <th>release_date</th>\n",
       "      <th>english</th>\n",
       "      <th>developer</th>\n",
       "      <th>publisher</th>\n",
       "      <th>platforms</th>\n",
       "      <th>required_age</th>\n",
       "      <th>categories</th>\n",
       "      <th>genres</th>\n",
       "      <th>steamspy_tags</th>\n",
       "      <th>achievements</th>\n",
       "      <th>positive_ratings</th>\n",
       "      <th>negative_ratings</th>\n",
       "      <th>average_playtime</th>\n",
       "      <th>median_playtime</th>\n",
       "      <th>owners</th>\n",
       "      <th>price</th>\n",
       "      <th>description</th>\n",
       "    </tr>\n",
       "  </thead>\n",
       "  <tbody>\n",
       "    <tr>\n",
       "      <th>0</th>\n",
       "      <td>10</td>\n",
       "      <td>Counter-Strike</td>\n",
       "      <td>2000-11-01</td>\n",
       "      <td>1</td>\n",
       "      <td>Valve</td>\n",
       "      <td>Valve</td>\n",
       "      <td>windows;mac;linux</td>\n",
       "      <td>0</td>\n",
       "      <td>Multi-player;Online Multi-Player;Local Multi-P...</td>\n",
       "      <td>Action</td>\n",
       "      <td>Action;FPS;Multiplayer</td>\n",
       "      <td>0</td>\n",
       "      <td>124534</td>\n",
       "      <td>3339</td>\n",
       "      <td>17612</td>\n",
       "      <td>317</td>\n",
       "      <td>10000000-20000000</td>\n",
       "      <td>7.19</td>\n",
       "      <td>Play the world's number 1 online action game. ...</td>\n",
       "    </tr>\n",
       "    <tr>\n",
       "      <th>1</th>\n",
       "      <td>20</td>\n",
       "      <td>Team Fortress Classic</td>\n",
       "      <td>1999-04-01</td>\n",
       "      <td>1</td>\n",
       "      <td>Valve</td>\n",
       "      <td>Valve</td>\n",
       "      <td>windows;mac;linux</td>\n",
       "      <td>0</td>\n",
       "      <td>Multi-player;Online Multi-Player;Local Multi-P...</td>\n",
       "      <td>Action</td>\n",
       "      <td>Action;FPS;Multiplayer</td>\n",
       "      <td>0</td>\n",
       "      <td>3318</td>\n",
       "      <td>633</td>\n",
       "      <td>277</td>\n",
       "      <td>62</td>\n",
       "      <td>5000000-10000000</td>\n",
       "      <td>3.99</td>\n",
       "      <td>One of the most popular online action games of...</td>\n",
       "    </tr>\n",
       "    <tr>\n",
       "      <th>2</th>\n",
       "      <td>30</td>\n",
       "      <td>Day of Defeat</td>\n",
       "      <td>2003-05-01</td>\n",
       "      <td>1</td>\n",
       "      <td>Valve</td>\n",
       "      <td>Valve</td>\n",
       "      <td>windows;mac;linux</td>\n",
       "      <td>0</td>\n",
       "      <td>Multi-player;Valve Anti-Cheat enabled</td>\n",
       "      <td>Action</td>\n",
       "      <td>FPS;World War II;Multiplayer</td>\n",
       "      <td>0</td>\n",
       "      <td>3416</td>\n",
       "      <td>398</td>\n",
       "      <td>187</td>\n",
       "      <td>34</td>\n",
       "      <td>5000000-10000000</td>\n",
       "      <td>3.99</td>\n",
       "      <td>Enlist in an intense brand of Axis vs. Allied ...</td>\n",
       "    </tr>\n",
       "    <tr>\n",
       "      <th>3</th>\n",
       "      <td>40</td>\n",
       "      <td>Deathmatch Classic</td>\n",
       "      <td>2001-06-01</td>\n",
       "      <td>1</td>\n",
       "      <td>Valve</td>\n",
       "      <td>Valve</td>\n",
       "      <td>windows;mac;linux</td>\n",
       "      <td>0</td>\n",
       "      <td>Multi-player;Online Multi-Player;Local Multi-P...</td>\n",
       "      <td>Action</td>\n",
       "      <td>Action;FPS;Multiplayer</td>\n",
       "      <td>0</td>\n",
       "      <td>1273</td>\n",
       "      <td>267</td>\n",
       "      <td>258</td>\n",
       "      <td>184</td>\n",
       "      <td>5000000-10000000</td>\n",
       "      <td>3.99</td>\n",
       "      <td>Enjoy fast-paced multiplayer gaming with Death...</td>\n",
       "    </tr>\n",
       "    <tr>\n",
       "      <th>4</th>\n",
       "      <td>50</td>\n",
       "      <td>Half-Life: Opposing Force</td>\n",
       "      <td>1999-11-01</td>\n",
       "      <td>1</td>\n",
       "      <td>Gearbox Software</td>\n",
       "      <td>Valve</td>\n",
       "      <td>windows;mac;linux</td>\n",
       "      <td>0</td>\n",
       "      <td>Single-player;Multi-player;Valve Anti-Cheat en...</td>\n",
       "      <td>Action</td>\n",
       "      <td>FPS;Action;Sci-fi</td>\n",
       "      <td>0</td>\n",
       "      <td>5250</td>\n",
       "      <td>288</td>\n",
       "      <td>624</td>\n",
       "      <td>415</td>\n",
       "      <td>5000000-10000000</td>\n",
       "      <td>3.99</td>\n",
       "      <td>Return to the Black Mesa Research Facility as ...</td>\n",
       "    </tr>\n",
       "  </tbody>\n",
       "</table>\n",
       "</div>"
      ],
      "text/plain": [
       "   appid                       name release_date  english         developer  \\\n",
       "0     10             Counter-Strike   2000-11-01        1             Valve   \n",
       "1     20      Team Fortress Classic   1999-04-01        1             Valve   \n",
       "2     30              Day of Defeat   2003-05-01        1             Valve   \n",
       "3     40         Deathmatch Classic   2001-06-01        1             Valve   \n",
       "4     50  Half-Life: Opposing Force   1999-11-01        1  Gearbox Software   \n",
       "\n",
       "  publisher          platforms  required_age  \\\n",
       "0     Valve  windows;mac;linux             0   \n",
       "1     Valve  windows;mac;linux             0   \n",
       "2     Valve  windows;mac;linux             0   \n",
       "3     Valve  windows;mac;linux             0   \n",
       "4     Valve  windows;mac;linux             0   \n",
       "\n",
       "                                          categories  genres  \\\n",
       "0  Multi-player;Online Multi-Player;Local Multi-P...  Action   \n",
       "1  Multi-player;Online Multi-Player;Local Multi-P...  Action   \n",
       "2              Multi-player;Valve Anti-Cheat enabled  Action   \n",
       "3  Multi-player;Online Multi-Player;Local Multi-P...  Action   \n",
       "4  Single-player;Multi-player;Valve Anti-Cheat en...  Action   \n",
       "\n",
       "                  steamspy_tags  achievements  positive_ratings  \\\n",
       "0        Action;FPS;Multiplayer             0            124534   \n",
       "1        Action;FPS;Multiplayer             0              3318   \n",
       "2  FPS;World War II;Multiplayer             0              3416   \n",
       "3        Action;FPS;Multiplayer             0              1273   \n",
       "4             FPS;Action;Sci-fi             0              5250   \n",
       "\n",
       "   negative_ratings  average_playtime  median_playtime             owners  \\\n",
       "0              3339             17612              317  10000000-20000000   \n",
       "1               633               277               62   5000000-10000000   \n",
       "2               398               187               34   5000000-10000000   \n",
       "3               267               258              184   5000000-10000000   \n",
       "4               288               624              415   5000000-10000000   \n",
       "\n",
       "   price                                        description  \n",
       "0   7.19  Play the world's number 1 online action game. ...  \n",
       "1   3.99  One of the most popular online action games of...  \n",
       "2   3.99  Enlist in an intense brand of Axis vs. Allied ...  \n",
       "3   3.99  Enjoy fast-paced multiplayer gaming with Death...  \n",
       "4   3.99  Return to the Black Mesa Research Facility as ...  "
      ]
     },
     "execution_count": 4,
     "metadata": {},
     "output_type": "execute_result"
    }
   ],
   "source": [
    "# Данные с параметрами объетов рекомендаций\n",
    "item_feature = pd.read_csv(\"steam.csv\")\n",
    "# Данные с описаниями игр - берем из них столбец с описаниями \n",
    "# и добавляем в наш набор\n",
    "item_description = pd.read_csv(\"steam_description_data.csv\")\n",
    "item_feature[\"description\"] = item_description.detailed_description\n",
    "item_feature.head()"
   ]
  },
  {
   "cell_type": "markdown",
   "metadata": {},
   "source": [
    "В данных по взаимодействиям и описаниях существуют разные наборы игр плюс необходимо привести к начальному виду названия игр.   \n",
    "Определим общий набор игр, присутствующий во всех данных"
   ]
  },
  {
   "cell_type": "code",
   "execution_count": 5,
   "metadata": {},
   "outputs": [
    {
     "name": "stdout",
     "output_type": "stream",
     "text": [
      "Количество оставленных игр: 2569\n",
      "Количество убранных из рассмотрения игр: 1029\n"
     ]
    }
   ],
   "source": [
    "# Названия игр из набора со взаимодействиями\n",
    "item_names_data = [re.sub(\"[^A-Za-z0-9\\s]\", \"\", str(x).lower()).replace(\"  \",\" \").strip() for x in data_play.item_name.unique()]\n",
    "# Названия игр из набора с описаниями\n",
    "item_names_feat = [re.sub(\"[^A-Za-z0-9\\s]\", \"\", str(x).lower()).replace(\"  \",\" \").strip() for x in item_feature.name.unique()]\n",
    "# Общий набор наименований игр\n",
    "main_item = list(set(item_names_data) & set(item_names_feat))\n",
    "# Исключенные игры из взаимодействий\n",
    "del_item = list(set(item_names_data) - set(item_names_feat))\n",
    "\n",
    "print(f\"Количество оставленных игр: {len(main_item)}\")\n",
    "print(f\"Количество убранных из рассмотрения игр: {len(del_item)}\")"
   ]
  },
  {
   "cell_type": "markdown",
   "metadata": {},
   "source": [
    "Преобразуем строковые признаки - уберем лишние символы, приведем к нижнему регистру."
   ]
  },
  {
   "cell_type": "code",
   "execution_count": 6,
   "metadata": {},
   "outputs": [
    {
     "name": "stderr",
     "output_type": "stream",
     "text": [
      "C:\\Users\\ivanov.evgeny\\AppData\\Roaming\\Python\\Python37\\site-packages\\pandas\\core\\generic.py:5494: SettingWithCopyWarning: \n",
      "A value is trying to be set on a copy of a slice from a DataFrame.\n",
      "Try using .loc[row_indexer,col_indexer] = value instead\n",
      "\n",
      "See the caveats in the documentation: https://pandas.pydata.org/pandas-docs/stable/user_guide/indexing.html#returning-a-view-versus-a-copy\n",
      "  self[name] = value\n"
     ]
    },
    {
     "data": {
      "text/html": [
       "<div>\n",
       "<style scoped>\n",
       "    .dataframe tbody tr th:only-of-type {\n",
       "        vertical-align: middle;\n",
       "    }\n",
       "\n",
       "    .dataframe tbody tr th {\n",
       "        vertical-align: top;\n",
       "    }\n",
       "\n",
       "    .dataframe thead th {\n",
       "        text-align: right;\n",
       "    }\n",
       "</style>\n",
       "<table border=\"1\" class=\"dataframe\">\n",
       "  <thead>\n",
       "    <tr style=\"text-align: right;\">\n",
       "      <th></th>\n",
       "      <th>appid</th>\n",
       "      <th>name</th>\n",
       "      <th>release_date</th>\n",
       "      <th>english</th>\n",
       "      <th>developer</th>\n",
       "      <th>publisher</th>\n",
       "      <th>platforms</th>\n",
       "      <th>required_age</th>\n",
       "      <th>categories</th>\n",
       "      <th>genres</th>\n",
       "      <th>steamspy_tags</th>\n",
       "      <th>achievements</th>\n",
       "      <th>positive_ratings</th>\n",
       "      <th>negative_ratings</th>\n",
       "      <th>average_playtime</th>\n",
       "      <th>median_playtime</th>\n",
       "      <th>owners</th>\n",
       "      <th>price</th>\n",
       "      <th>description</th>\n",
       "      <th>descr_summary</th>\n",
       "    </tr>\n",
       "  </thead>\n",
       "  <tbody>\n",
       "    <tr>\n",
       "      <th>0</th>\n",
       "      <td>10</td>\n",
       "      <td>counterstrike</td>\n",
       "      <td>2000-11-01</td>\n",
       "      <td>1</td>\n",
       "      <td>valve</td>\n",
       "      <td>Valve</td>\n",
       "      <td>windows;mac;linux</td>\n",
       "      <td>0</td>\n",
       "      <td>multiplayer online multiplayer local multiplay...</td>\n",
       "      <td>action</td>\n",
       "      <td>action fps multiplayer</td>\n",
       "      <td>0</td>\n",
       "      <td>124534</td>\n",
       "      <td>3339</td>\n",
       "      <td>17612</td>\n",
       "      <td>317</td>\n",
       "      <td>10000000-20000000</td>\n",
       "      <td>7.19</td>\n",
       "      <td>play the worlds number 1 online action game en...</td>\n",
       "      <td>counterstrike action fps multiplayer valve mul...</td>\n",
       "    </tr>\n",
       "    <tr>\n",
       "      <th>1</th>\n",
       "      <td>20</td>\n",
       "      <td>team fortress classic</td>\n",
       "      <td>1999-04-01</td>\n",
       "      <td>1</td>\n",
       "      <td>valve</td>\n",
       "      <td>Valve</td>\n",
       "      <td>windows;mac;linux</td>\n",
       "      <td>0</td>\n",
       "      <td>multiplayer online multiplayer local multiplay...</td>\n",
       "      <td>action</td>\n",
       "      <td>action fps multiplayer</td>\n",
       "      <td>0</td>\n",
       "      <td>3318</td>\n",
       "      <td>633</td>\n",
       "      <td>277</td>\n",
       "      <td>62</td>\n",
       "      <td>5000000-10000000</td>\n",
       "      <td>3.99</td>\n",
       "      <td>one of the most popular online action games of...</td>\n",
       "      <td>team fortress classic action fps multiplayer v...</td>\n",
       "    </tr>\n",
       "    <tr>\n",
       "      <th>2</th>\n",
       "      <td>30</td>\n",
       "      <td>day of defeat</td>\n",
       "      <td>2003-05-01</td>\n",
       "      <td>1</td>\n",
       "      <td>valve</td>\n",
       "      <td>Valve</td>\n",
       "      <td>windows;mac;linux</td>\n",
       "      <td>0</td>\n",
       "      <td>multiplayer valve anticheat enabled</td>\n",
       "      <td>action</td>\n",
       "      <td>fps world war ii multiplayer</td>\n",
       "      <td>0</td>\n",
       "      <td>3416</td>\n",
       "      <td>398</td>\n",
       "      <td>187</td>\n",
       "      <td>34</td>\n",
       "      <td>5000000-10000000</td>\n",
       "      <td>3.99</td>\n",
       "      <td>enlist in an intense brand of axis vs allied t...</td>\n",
       "      <td>day of defeat fps world war ii multiplayer val...</td>\n",
       "    </tr>\n",
       "    <tr>\n",
       "      <th>3</th>\n",
       "      <td>40</td>\n",
       "      <td>deathmatch classic</td>\n",
       "      <td>2001-06-01</td>\n",
       "      <td>1</td>\n",
       "      <td>valve</td>\n",
       "      <td>Valve</td>\n",
       "      <td>windows;mac;linux</td>\n",
       "      <td>0</td>\n",
       "      <td>multiplayer online multiplayer local multiplay...</td>\n",
       "      <td>action</td>\n",
       "      <td>action fps multiplayer</td>\n",
       "      <td>0</td>\n",
       "      <td>1273</td>\n",
       "      <td>267</td>\n",
       "      <td>258</td>\n",
       "      <td>184</td>\n",
       "      <td>5000000-10000000</td>\n",
       "      <td>3.99</td>\n",
       "      <td>enjoy fastpaced multiplayer gaming with deathm...</td>\n",
       "      <td>deathmatch classic action fps multiplayer valv...</td>\n",
       "    </tr>\n",
       "    <tr>\n",
       "      <th>4</th>\n",
       "      <td>50</td>\n",
       "      <td>halflife opposing force</td>\n",
       "      <td>1999-11-01</td>\n",
       "      <td>1</td>\n",
       "      <td>gearbox software</td>\n",
       "      <td>Valve</td>\n",
       "      <td>windows;mac;linux</td>\n",
       "      <td>0</td>\n",
       "      <td>singleplayer multiplayer valve anticheat enabled</td>\n",
       "      <td>action</td>\n",
       "      <td>fps action scifi</td>\n",
       "      <td>0</td>\n",
       "      <td>5250</td>\n",
       "      <td>288</td>\n",
       "      <td>624</td>\n",
       "      <td>415</td>\n",
       "      <td>5000000-10000000</td>\n",
       "      <td>3.99</td>\n",
       "      <td>return to the black mesa research facility as ...</td>\n",
       "      <td>halflife opposing force fps action scifi gearb...</td>\n",
       "    </tr>\n",
       "  </tbody>\n",
       "</table>\n",
       "</div>"
      ],
      "text/plain": [
       "   appid                     name release_date  english         developer  \\\n",
       "0     10            counterstrike   2000-11-01        1             valve   \n",
       "1     20    team fortress classic   1999-04-01        1             valve   \n",
       "2     30            day of defeat   2003-05-01        1             valve   \n",
       "3     40       deathmatch classic   2001-06-01        1             valve   \n",
       "4     50  halflife opposing force   1999-11-01        1  gearbox software   \n",
       "\n",
       "  publisher          platforms  required_age  \\\n",
       "0     Valve  windows;mac;linux             0   \n",
       "1     Valve  windows;mac;linux             0   \n",
       "2     Valve  windows;mac;linux             0   \n",
       "3     Valve  windows;mac;linux             0   \n",
       "4     Valve  windows;mac;linux             0   \n",
       "\n",
       "                                          categories  genres  \\\n",
       "0  multiplayer online multiplayer local multiplay...  action   \n",
       "1  multiplayer online multiplayer local multiplay...  action   \n",
       "2                multiplayer valve anticheat enabled  action   \n",
       "3  multiplayer online multiplayer local multiplay...  action   \n",
       "4   singleplayer multiplayer valve anticheat enabled  action   \n",
       "\n",
       "                  steamspy_tags  achievements  positive_ratings  \\\n",
       "0        action fps multiplayer             0            124534   \n",
       "1        action fps multiplayer             0              3318   \n",
       "2  fps world war ii multiplayer             0              3416   \n",
       "3        action fps multiplayer             0              1273   \n",
       "4              fps action scifi             0              5250   \n",
       "\n",
       "   negative_ratings  average_playtime  median_playtime             owners  \\\n",
       "0              3339             17612              317  10000000-20000000   \n",
       "1               633               277               62   5000000-10000000   \n",
       "2               398               187               34   5000000-10000000   \n",
       "3               267               258              184   5000000-10000000   \n",
       "4               288               624              415   5000000-10000000   \n",
       "\n",
       "   price                                        description  \\\n",
       "0   7.19  play the worlds number 1 online action game en...   \n",
       "1   3.99  one of the most popular online action games of...   \n",
       "2   3.99  enlist in an intense brand of axis vs allied t...   \n",
       "3   3.99  enjoy fastpaced multiplayer gaming with deathm...   \n",
       "4   3.99  return to the black mesa research facility as ...   \n",
       "\n",
       "                                       descr_summary  \n",
       "0  counterstrike action fps multiplayer valve mul...  \n",
       "1  team fortress classic action fps multiplayer v...  \n",
       "2  day of defeat fps world war ii multiplayer val...  \n",
       "3  deathmatch classic action fps multiplayer valv...  \n",
       "4  halflife opposing force fps action scifi gearb...  "
      ]
     },
     "execution_count": 6,
     "metadata": {},
     "output_type": "execute_result"
    }
   ],
   "source": [
    "# Преобразуем названия игр в данных о взаимодействиях и описаниях игр\n",
    "data_play.item_name = data_play.item_name.apply(lambda x:\n",
    "                                                re.sub(\"[^A-Za-z0-9\\s]\", \"\", str(x).lower()).replace(\"  \",\" \").strip()) \n",
    "item_feature.name = item_feature.name.apply(lambda x:\n",
    "                                                re.sub(\"[^A-Za-z0-9\\s]\", \"\", str(x).lower()).replace(\"  \",\" \").strip()) \n",
    "# Преобразуем некоторые столбцы описаний игр\n",
    "item_feature[\"description\"] = item_feature[\"description\"].apply(lambda x:\n",
    "                                                re.sub(\"[^A-Za-z0-9\\s]\", \"\", str(x).lower()).replace(\"  \",\" \").replace(\"\\t\",\"\").replace(\"\\n\",\"\").replace(\"\\r\",\"\").strip())\n",
    "item_feature[\"genres\"] = item_feature[\"genres\"].apply(lambda x:\n",
    "                                                re.sub(\"[^A-Za-z0-9\\s\\;]\", \"\", str(x).lower()).replace(\"  \",\" \").strip())\n",
    "item_feature[\"steamspy_tags\"] = item_feature[\"steamspy_tags\"].apply(lambda x:\n",
    "                                                re.sub(\"[^A-Za-z0-9\\s\\;]\", \"\", str(x).lower()).replace(\";\",\" \").strip())\n",
    "item_feature[\"developer\"] = item_feature[\"developer\"].apply(lambda x:\n",
    "                                                re.sub(\"[^A-Za-z0-9\\s\\;]\", \"\", str(x).lower()).replace(\";\",\" \").strip())\n",
    "item_feature[\"categories\"] = item_feature[\"categories\"].apply(lambda x:\n",
    "                                                re.sub(\"[^A-Za-z0-9\\s\\;]\", \"\", str(x).lower()).replace(\";\",\" \").strip())\n",
    "# Создадим из этих столбцов столбец с общим описанием игры\n",
    "item_feature[\"descr_summary\"] = item_feature[\"name\"] + \" \" + item_feature[\"steamspy_tags\"] + \" \" + item_feature[\"developer\"] + \" \" + item_feature[\"categories\"]\n",
    "item_feature.head()"
   ]
  },
  {
   "cell_type": "code",
   "execution_count": 7,
   "metadata": {},
   "outputs": [],
   "source": [
    "# Данные взаимодействий\n",
    "data_play = data_play[data_play.item_name.apply(lambda x: x in main_item)]\n",
    "# Данные с описаниями игр\n",
    "item_feature = item_feature[item_feature.name.apply(lambda x: x in main_item)]"
   ]
  },
  {
   "cell_type": "markdown",
   "metadata": {},
   "source": [
    "### 2) Разделение данных на train/test\n",
    "Оставляем тех пользователей, у которых число взаимодействий более 8. В обучающую часть берем 80% взаимодействий, остальные - в валидационную"
   ]
  },
  {
   "cell_type": "code",
   "execution_count": 8,
   "metadata": {},
   "outputs": [
    {
     "data": {
      "application/vnd.jupyter.widget-view+json": {
       "model_id": "e767266c5c6e40d29ba713793cafb7bd",
       "version_major": 2,
       "version_minor": 0
      },
      "text/plain": [
       "HBox(children=(IntProgress(value=0, max=10569), HTML(value='')))"
      ]
     },
     "metadata": {},
     "output_type": "display_data"
    },
    {
     "name": "stdout",
     "output_type": "stream",
     "text": [
      "\n"
     ]
    }
   ],
   "source": [
    "from sklearn.model_selection import train_test_split\n",
    "\n",
    "user_id_test = set()\n",
    "data_test = pd.DataFrame([])\n",
    "data_train = pd.DataFrame([])\n",
    "for user_id in tqdm_notebook(pd.unique(data_play[\"user_id\"])):\n",
    "    user_data = data_play[data_play['user_id']==user_id]\n",
    "    if len(user_data) >= 8:\n",
    "        train, test = train_test_split(user_data, test_size=0.2,random_state = 42)\n",
    "        data_test = data_test.append(test)\n",
    "        data_train = data_train.append(train)\n",
    "        user_id_test.add(user_id)"
   ]
  },
  {
   "cell_type": "markdown",
   "metadata": {},
   "source": [
    "Теперь сделаем так, чтобы игры присутствовали во всех выборках - как минимум, чтобы игры из test обязательно присутствовали в train. Также убираем игры, не попавшие в test и убираем пользователей, у которых в тестовой выборке оказалось меньше 2-х взаимодействий."
   ]
  },
  {
   "cell_type": "code",
   "execution_count": 9,
   "metadata": {},
   "outputs": [],
   "source": [
    "# Определяем игры из test, которых нет в train\n",
    "train_name = set(data_train.item_name)\n",
    "test_name = set(data_test.item_name)\n",
    "game_not_in_train = test_name - train_name\n",
    "while len(game_not_in_train):\n",
    "    # Удаляем записи с отсутствующими в train играми из test\n",
    "    #data_t = data_test.copy()\n",
    "    data_test = data_test[data_test.item_name.apply(lambda x: x not in game_not_in_train)]\n",
    "\n",
    "    # Определяем пользователей, у которых в test не менее двух взаимодействий - \n",
    "    # Остальных убираем из train и test\n",
    "    cnt = Counter(data_test.user_id)\n",
    "    lost_users = [x for x,y in cnt.items() if y>=2]\n",
    "    data_train = data_train[data_train.user_id.apply(lambda x : x in lost_users)]\n",
    "    data_test = data_test[data_test.user_id.apply(lambda x : x in lost_users)]\n",
    "    # Обновляем список пользователей\n",
    "    user_id_test = set(lost_users)\n",
    "    # Пересчитываем множество непересекающихся игр\n",
    "    train_name = set(data_train.item_name)\n",
    "    test_name = set(data_test.item_name)\n",
    "    game_not_in_train = test_name - train_name"
   ]
  },
  {
   "cell_type": "code",
   "execution_count": 10,
   "metadata": {},
   "outputs": [
    {
     "data": {
      "text/plain": [
       "set()"
      ]
     },
     "execution_count": 10,
     "metadata": {},
     "output_type": "execute_result"
    }
   ],
   "source": [
    "# Проверяем, остались ли игры в test, которые не представлены в train\n",
    "set(data_test.item_name) - set(data_train.item_name)"
   ]
  },
  {
   "cell_type": "code",
   "execution_count": 11,
   "metadata": {},
   "outputs": [
    {
     "name": "stdout",
     "output_type": "stream",
     "text": [
      "30475 8134\n"
     ]
    }
   ],
   "source": [
    "# Смотрим на размерности полученных разбиений\n",
    "print(data_train.shape[0],data_test.shape[0])"
   ]
  },
  {
   "cell_type": "code",
   "execution_count": 12,
   "metadata": {},
   "outputs": [],
   "source": [
    "# Вернем отсортированный по индексам вид\n",
    "data_train = data_train.sort_index()\n",
    "data_test = data_test.sort_index()"
   ]
  },
  {
   "cell_type": "markdown",
   "metadata": {},
   "source": [
    "Посмотрим на полученное разделение"
   ]
  },
  {
   "cell_type": "code",
   "execution_count": 13,
   "metadata": {},
   "outputs": [
    {
     "data": {
      "text/html": [
       "<div>\n",
       "<style scoped>\n",
       "    .dataframe tbody tr th:only-of-type {\n",
       "        vertical-align: middle;\n",
       "    }\n",
       "\n",
       "    .dataframe tbody tr th {\n",
       "        vertical-align: top;\n",
       "    }\n",
       "\n",
       "    .dataframe thead th {\n",
       "        text-align: right;\n",
       "    }\n",
       "</style>\n",
       "<table border=\"1\" class=\"dataframe\">\n",
       "  <thead>\n",
       "    <tr style=\"text-align: right;\">\n",
       "      <th></th>\n",
       "      <th>user_id</th>\n",
       "      <th>item_name</th>\n",
       "      <th>play</th>\n",
       "      <th>play_hours</th>\n",
       "      <th>col_5</th>\n",
       "    </tr>\n",
       "  </thead>\n",
       "  <tbody>\n",
       "    <tr>\n",
       "      <th>28978</th>\n",
       "      <td>11403772</td>\n",
       "      <td>dota 2</td>\n",
       "      <td>play</td>\n",
       "      <td>2443.0</td>\n",
       "      <td>0</td>\n",
       "    </tr>\n",
       "    <tr>\n",
       "      <th>28980</th>\n",
       "      <td>11403772</td>\n",
       "      <td>team fortress 2</td>\n",
       "      <td>play</td>\n",
       "      <td>744.0</td>\n",
       "      <td>0</td>\n",
       "    </tr>\n",
       "    <tr>\n",
       "      <th>28984</th>\n",
       "      <td>11403772</td>\n",
       "      <td>fallout new vegas</td>\n",
       "      <td>play</td>\n",
       "      <td>115.0</td>\n",
       "      <td>0</td>\n",
       "    </tr>\n",
       "    <tr>\n",
       "      <th>28986</th>\n",
       "      <td>11403772</td>\n",
       "      <td>eve online</td>\n",
       "      <td>play</td>\n",
       "      <td>109.0</td>\n",
       "      <td>0</td>\n",
       "    </tr>\n",
       "    <tr>\n",
       "      <th>28988</th>\n",
       "      <td>11403772</td>\n",
       "      <td>counterstrike global offensive</td>\n",
       "      <td>play</td>\n",
       "      <td>94.0</td>\n",
       "      <td>0</td>\n",
       "    </tr>\n",
       "  </tbody>\n",
       "</table>\n",
       "</div>"
      ],
      "text/plain": [
       "        user_id                       item_name  play  play_hours  col_5\n",
       "28978  11403772                          dota 2  play      2443.0      0\n",
       "28980  11403772                 team fortress 2  play       744.0      0\n",
       "28984  11403772               fallout new vegas  play       115.0      0\n",
       "28986  11403772                      eve online  play       109.0      0\n",
       "28988  11403772  counterstrike global offensive  play        94.0      0"
      ]
     },
     "execution_count": 13,
     "metadata": {},
     "output_type": "execute_result"
    }
   ],
   "source": [
    "data_train[data_train.user_id == 11403772].head()"
   ]
  },
  {
   "cell_type": "code",
   "execution_count": 14,
   "metadata": {},
   "outputs": [
    {
     "data": {
      "text/html": [
       "<div>\n",
       "<style scoped>\n",
       "    .dataframe tbody tr th:only-of-type {\n",
       "        vertical-align: middle;\n",
       "    }\n",
       "\n",
       "    .dataframe tbody tr th {\n",
       "        vertical-align: top;\n",
       "    }\n",
       "\n",
       "    .dataframe thead th {\n",
       "        text-align: right;\n",
       "    }\n",
       "</style>\n",
       "<table border=\"1\" class=\"dataframe\">\n",
       "  <thead>\n",
       "    <tr style=\"text-align: right;\">\n",
       "      <th></th>\n",
       "      <th>user_id</th>\n",
       "      <th>item_name</th>\n",
       "      <th>play</th>\n",
       "      <th>play_hours</th>\n",
       "      <th>col_5</th>\n",
       "    </tr>\n",
       "  </thead>\n",
       "  <tbody>\n",
       "    <tr>\n",
       "      <th>29006</th>\n",
       "      <td>11403772</td>\n",
       "      <td>natural selection 2</td>\n",
       "      <td>play</td>\n",
       "      <td>33.0</td>\n",
       "      <td>0</td>\n",
       "    </tr>\n",
       "    <tr>\n",
       "      <th>29008</th>\n",
       "      <td>11403772</td>\n",
       "      <td>rust</td>\n",
       "      <td>play</td>\n",
       "      <td>30.0</td>\n",
       "      <td>0</td>\n",
       "    </tr>\n",
       "    <tr>\n",
       "      <th>29022</th>\n",
       "      <td>11403772</td>\n",
       "      <td>torchlight</td>\n",
       "      <td>play</td>\n",
       "      <td>24.0</td>\n",
       "      <td>0</td>\n",
       "    </tr>\n",
       "    <tr>\n",
       "      <th>29026</th>\n",
       "      <td>11403772</td>\n",
       "      <td>magic duels</td>\n",
       "      <td>play</td>\n",
       "      <td>22.0</td>\n",
       "      <td>0</td>\n",
       "    </tr>\n",
       "    <tr>\n",
       "      <th>29034</th>\n",
       "      <td>11403772</td>\n",
       "      <td>dirty bomb</td>\n",
       "      <td>play</td>\n",
       "      <td>19.2</td>\n",
       "      <td>0</td>\n",
       "    </tr>\n",
       "  </tbody>\n",
       "</table>\n",
       "</div>"
      ],
      "text/plain": [
       "        user_id            item_name  play  play_hours  col_5\n",
       "29006  11403772  natural selection 2  play        33.0      0\n",
       "29008  11403772                 rust  play        30.0      0\n",
       "29022  11403772           torchlight  play        24.0      0\n",
       "29026  11403772          magic duels  play        22.0      0\n",
       "29034  11403772           dirty bomb  play        19.2      0"
      ]
     },
     "execution_count": 14,
     "metadata": {},
     "output_type": "execute_result"
    }
   ],
   "source": [
    "data_test[data_test.user_id == 11403772].head()"
   ]
  },
  {
   "cell_type": "markdown",
   "metadata": {},
   "source": [
    "### 3) Метрика качества рекомендаций\n",
    "Определим метрику для анализа качества рекомендаций\n"
   ]
  },
  {
   "cell_type": "code",
   "execution_count": 15,
   "metadata": {},
   "outputs": [],
   "source": [
    "def precision_at_k(y_true, y_pred, k = 10):\n",
    "    '''\n",
    "    Метрика precision@k \n",
    "    y_true - используемые игры\n",
    "    y_pred - рекомендованные игры\n",
    "    k - количество рассматриваемых рекомендаций\n",
    "    '''\n",
    "    result = 0.0\n",
    "    if k < 1 or k > len(y_pred):\n",
    "        return result\n",
    "    else:\n",
    "        y_pred = y_pred[:k]\n",
    "    correct_indeces = np.where(np.in1d(y_pred, y_true))[0]\n",
    "    result = len(correct_indeces) / k\n",
    "    return result\n",
    "\n",
    "def average_precision_at_k(y_true, y_pred, k = 10):\n",
    "    '''\n",
    "    Метрика precision@k, усредненная по k от 1 до k - учитывает порядок релевантных вхождений\n",
    "    y_true - используемые игры\n",
    "    y_pred - рекомендованные игры\n",
    "    k - количество рассматриваемых рекомендаций\n",
    "    '''\n",
    "    ap = 0\n",
    "    for k_ind in range(1,k+1):\n",
    "        ap += precision_at_k(y_true, y_pred,k_ind)\n",
    "    return ap / k\n",
    "\n",
    "\n",
    "def map_at_k(dict_pred, data, k = 10):\n",
    "    '''\n",
    "    Среднее average precision@k по пользователям из dict_pred\n",
    "    dict_pred - словарь рекомендаций user_id:[item_rec_1,item_rec_2,...], item_rec-название игры\n",
    "    data - dataframe взаимодействий user-item с реальными взаимодействиями\n",
    "    '''\n",
    "    sum_apk = 0\n",
    "    for user, y_preds in dict_pred.items():\n",
    "        sum_apk += average_precision_at_k(data[data['user_id']==user]['item_name'],y_preds,k)\n",
    "    return sum_apk / len(dict_pred)\n"
   ]
  },
  {
   "cell_type": "markdown",
   "metadata": {},
   "source": [
    "### 4) Popular base подход"
   ]
  },
  {
   "cell_type": "markdown",
   "metadata": {},
   "source": [
    "Реализация подхода рекомендаций на основе наиболее популярных игр.   \n",
    "Рейтинг считается исходя из кол-ва пользователей - owners, позитивных оценок - positive_ratings, общего числа оценок - positive_ratings + negative_ratings"
   ]
  },
  {
   "cell_type": "code",
   "execution_count": 16,
   "metadata": {},
   "outputs": [
    {
     "data": {
      "text/html": [
       "<div>\n",
       "<style scoped>\n",
       "    .dataframe tbody tr th:only-of-type {\n",
       "        vertical-align: middle;\n",
       "    }\n",
       "\n",
       "    .dataframe tbody tr th {\n",
       "        vertical-align: top;\n",
       "    }\n",
       "\n",
       "    .dataframe thead th {\n",
       "        text-align: right;\n",
       "    }\n",
       "</style>\n",
       "<table border=\"1\" class=\"dataframe\">\n",
       "  <thead>\n",
       "    <tr style=\"text-align: right;\">\n",
       "      <th></th>\n",
       "      <th>appid</th>\n",
       "      <th>name</th>\n",
       "      <th>release_date</th>\n",
       "      <th>english</th>\n",
       "      <th>developer</th>\n",
       "      <th>publisher</th>\n",
       "      <th>platforms</th>\n",
       "      <th>required_age</th>\n",
       "      <th>categories</th>\n",
       "      <th>genres</th>\n",
       "      <th>steamspy_tags</th>\n",
       "      <th>achievements</th>\n",
       "      <th>positive_ratings</th>\n",
       "      <th>negative_ratings</th>\n",
       "      <th>average_playtime</th>\n",
       "      <th>median_playtime</th>\n",
       "      <th>owners</th>\n",
       "      <th>price</th>\n",
       "      <th>description</th>\n",
       "      <th>descr_summary</th>\n",
       "    </tr>\n",
       "  </thead>\n",
       "  <tbody>\n",
       "    <tr>\n",
       "      <th>0</th>\n",
       "      <td>10</td>\n",
       "      <td>counterstrike</td>\n",
       "      <td>2000-11-01</td>\n",
       "      <td>1</td>\n",
       "      <td>valve</td>\n",
       "      <td>Valve</td>\n",
       "      <td>windows;mac;linux</td>\n",
       "      <td>0</td>\n",
       "      <td>multiplayer online multiplayer local multiplay...</td>\n",
       "      <td>action</td>\n",
       "      <td>action fps multiplayer</td>\n",
       "      <td>0</td>\n",
       "      <td>124534</td>\n",
       "      <td>3339</td>\n",
       "      <td>17612</td>\n",
       "      <td>317</td>\n",
       "      <td>10000000-20000000</td>\n",
       "      <td>7.19</td>\n",
       "      <td>play the worlds number 1 online action game en...</td>\n",
       "      <td>counterstrike action fps multiplayer valve mul...</td>\n",
       "    </tr>\n",
       "    <tr>\n",
       "      <th>1</th>\n",
       "      <td>20</td>\n",
       "      <td>team fortress classic</td>\n",
       "      <td>1999-04-01</td>\n",
       "      <td>1</td>\n",
       "      <td>valve</td>\n",
       "      <td>Valve</td>\n",
       "      <td>windows;mac;linux</td>\n",
       "      <td>0</td>\n",
       "      <td>multiplayer online multiplayer local multiplay...</td>\n",
       "      <td>action</td>\n",
       "      <td>action fps multiplayer</td>\n",
       "      <td>0</td>\n",
       "      <td>3318</td>\n",
       "      <td>633</td>\n",
       "      <td>277</td>\n",
       "      <td>62</td>\n",
       "      <td>5000000-10000000</td>\n",
       "      <td>3.99</td>\n",
       "      <td>one of the most popular online action games of...</td>\n",
       "      <td>team fortress classic action fps multiplayer v...</td>\n",
       "    </tr>\n",
       "    <tr>\n",
       "      <th>2</th>\n",
       "      <td>30</td>\n",
       "      <td>day of defeat</td>\n",
       "      <td>2003-05-01</td>\n",
       "      <td>1</td>\n",
       "      <td>valve</td>\n",
       "      <td>Valve</td>\n",
       "      <td>windows;mac;linux</td>\n",
       "      <td>0</td>\n",
       "      <td>multiplayer valve anticheat enabled</td>\n",
       "      <td>action</td>\n",
       "      <td>fps world war ii multiplayer</td>\n",
       "      <td>0</td>\n",
       "      <td>3416</td>\n",
       "      <td>398</td>\n",
       "      <td>187</td>\n",
       "      <td>34</td>\n",
       "      <td>5000000-10000000</td>\n",
       "      <td>3.99</td>\n",
       "      <td>enlist in an intense brand of axis vs allied t...</td>\n",
       "      <td>day of defeat fps world war ii multiplayer val...</td>\n",
       "    </tr>\n",
       "  </tbody>\n",
       "</table>\n",
       "</div>"
      ],
      "text/plain": [
       "   appid                   name release_date  english developer publisher  \\\n",
       "0     10          counterstrike   2000-11-01        1     valve     Valve   \n",
       "1     20  team fortress classic   1999-04-01        1     valve     Valve   \n",
       "2     30          day of defeat   2003-05-01        1     valve     Valve   \n",
       "\n",
       "           platforms  required_age  \\\n",
       "0  windows;mac;linux             0   \n",
       "1  windows;mac;linux             0   \n",
       "2  windows;mac;linux             0   \n",
       "\n",
       "                                          categories  genres  \\\n",
       "0  multiplayer online multiplayer local multiplay...  action   \n",
       "1  multiplayer online multiplayer local multiplay...  action   \n",
       "2                multiplayer valve anticheat enabled  action   \n",
       "\n",
       "                  steamspy_tags  achievements  positive_ratings  \\\n",
       "0        action fps multiplayer             0            124534   \n",
       "1        action fps multiplayer             0              3318   \n",
       "2  fps world war ii multiplayer             0              3416   \n",
       "\n",
       "   negative_ratings  average_playtime  median_playtime             owners  \\\n",
       "0              3339             17612              317  10000000-20000000   \n",
       "1               633               277               62   5000000-10000000   \n",
       "2               398               187               34   5000000-10000000   \n",
       "\n",
       "   price                                        description  \\\n",
       "0   7.19  play the worlds number 1 online action game en...   \n",
       "1   3.99  one of the most popular online action games of...   \n",
       "2   3.99  enlist in an intense brand of axis vs allied t...   \n",
       "\n",
       "                                       descr_summary  \n",
       "0  counterstrike action fps multiplayer valve mul...  \n",
       "1  team fortress classic action fps multiplayer v...  \n",
       "2  day of defeat fps world war ii multiplayer val...  "
      ]
     },
     "execution_count": 16,
     "metadata": {},
     "output_type": "execute_result"
    }
   ],
   "source": [
    "item_feature.head(3)"
   ]
  },
  {
   "cell_type": "markdown",
   "metadata": {},
   "source": [
    "Посчитаем среднее число пользователей, долю положительных оценок и общее число оценок"
   ]
  },
  {
   "cell_type": "code",
   "execution_count": 17,
   "metadata": {},
   "outputs": [
    {
     "data": {
      "text/html": [
       "<div>\n",
       "<style scoped>\n",
       "    .dataframe tbody tr th:only-of-type {\n",
       "        vertical-align: middle;\n",
       "    }\n",
       "\n",
       "    .dataframe tbody tr th {\n",
       "        vertical-align: top;\n",
       "    }\n",
       "\n",
       "    .dataframe thead th {\n",
       "        text-align: right;\n",
       "    }\n",
       "</style>\n",
       "<table border=\"1\" class=\"dataframe\">\n",
       "  <thead>\n",
       "    <tr style=\"text-align: right;\">\n",
       "      <th></th>\n",
       "      <th>appid</th>\n",
       "      <th>name</th>\n",
       "      <th>release_date</th>\n",
       "      <th>english</th>\n",
       "      <th>developer</th>\n",
       "      <th>publisher</th>\n",
       "      <th>platforms</th>\n",
       "      <th>required_age</th>\n",
       "      <th>categories</th>\n",
       "      <th>genres</th>\n",
       "      <th>...</th>\n",
       "      <th>positive_ratings</th>\n",
       "      <th>negative_ratings</th>\n",
       "      <th>average_playtime</th>\n",
       "      <th>median_playtime</th>\n",
       "      <th>owners</th>\n",
       "      <th>price</th>\n",
       "      <th>description</th>\n",
       "      <th>descr_summary</th>\n",
       "      <th>proc_positive_ratings</th>\n",
       "      <th>count_ratings</th>\n",
       "    </tr>\n",
       "  </thead>\n",
       "  <tbody>\n",
       "    <tr>\n",
       "      <th>0</th>\n",
       "      <td>10</td>\n",
       "      <td>counterstrike</td>\n",
       "      <td>2000-11-01</td>\n",
       "      <td>1</td>\n",
       "      <td>valve</td>\n",
       "      <td>Valve</td>\n",
       "      <td>windows;mac;linux</td>\n",
       "      <td>0</td>\n",
       "      <td>multiplayer online multiplayer local multiplay...</td>\n",
       "      <td>action</td>\n",
       "      <td>...</td>\n",
       "      <td>124534</td>\n",
       "      <td>3339</td>\n",
       "      <td>17612</td>\n",
       "      <td>317</td>\n",
       "      <td>15000000.0</td>\n",
       "      <td>7.19</td>\n",
       "      <td>play the worlds number 1 online action game en...</td>\n",
       "      <td>counterstrike action fps multiplayer valve mul...</td>\n",
       "      <td>0.973888</td>\n",
       "      <td>127873</td>\n",
       "    </tr>\n",
       "    <tr>\n",
       "      <th>1</th>\n",
       "      <td>20</td>\n",
       "      <td>team fortress classic</td>\n",
       "      <td>1999-04-01</td>\n",
       "      <td>1</td>\n",
       "      <td>valve</td>\n",
       "      <td>Valve</td>\n",
       "      <td>windows;mac;linux</td>\n",
       "      <td>0</td>\n",
       "      <td>multiplayer online multiplayer local multiplay...</td>\n",
       "      <td>action</td>\n",
       "      <td>...</td>\n",
       "      <td>3318</td>\n",
       "      <td>633</td>\n",
       "      <td>277</td>\n",
       "      <td>62</td>\n",
       "      <td>7500000.0</td>\n",
       "      <td>3.99</td>\n",
       "      <td>one of the most popular online action games of...</td>\n",
       "      <td>team fortress classic action fps multiplayer v...</td>\n",
       "      <td>0.839787</td>\n",
       "      <td>3951</td>\n",
       "    </tr>\n",
       "    <tr>\n",
       "      <th>2</th>\n",
       "      <td>30</td>\n",
       "      <td>day of defeat</td>\n",
       "      <td>2003-05-01</td>\n",
       "      <td>1</td>\n",
       "      <td>valve</td>\n",
       "      <td>Valve</td>\n",
       "      <td>windows;mac;linux</td>\n",
       "      <td>0</td>\n",
       "      <td>multiplayer valve anticheat enabled</td>\n",
       "      <td>action</td>\n",
       "      <td>...</td>\n",
       "      <td>3416</td>\n",
       "      <td>398</td>\n",
       "      <td>187</td>\n",
       "      <td>34</td>\n",
       "      <td>7500000.0</td>\n",
       "      <td>3.99</td>\n",
       "      <td>enlist in an intense brand of axis vs allied t...</td>\n",
       "      <td>day of defeat fps world war ii multiplayer val...</td>\n",
       "      <td>0.895648</td>\n",
       "      <td>3814</td>\n",
       "    </tr>\n",
       "  </tbody>\n",
       "</table>\n",
       "<p>3 rows × 22 columns</p>\n",
       "</div>"
      ],
      "text/plain": [
       "   appid                   name release_date  english developer publisher  \\\n",
       "0     10          counterstrike   2000-11-01        1     valve     Valve   \n",
       "1     20  team fortress classic   1999-04-01        1     valve     Valve   \n",
       "2     30          day of defeat   2003-05-01        1     valve     Valve   \n",
       "\n",
       "           platforms  required_age  \\\n",
       "0  windows;mac;linux             0   \n",
       "1  windows;mac;linux             0   \n",
       "2  windows;mac;linux             0   \n",
       "\n",
       "                                          categories  genres  ...  \\\n",
       "0  multiplayer online multiplayer local multiplay...  action  ...   \n",
       "1  multiplayer online multiplayer local multiplay...  action  ...   \n",
       "2                multiplayer valve anticheat enabled  action  ...   \n",
       "\n",
       "  positive_ratings  negative_ratings  average_playtime  median_playtime  \\\n",
       "0           124534              3339             17612              317   \n",
       "1             3318               633               277               62   \n",
       "2             3416               398               187               34   \n",
       "\n",
       "       owners  price                                        description  \\\n",
       "0  15000000.0   7.19  play the worlds number 1 online action game en...   \n",
       "1   7500000.0   3.99  one of the most popular online action games of...   \n",
       "2   7500000.0   3.99  enlist in an intense brand of axis vs allied t...   \n",
       "\n",
       "                                       descr_summary proc_positive_ratings  \\\n",
       "0  counterstrike action fps multiplayer valve mul...              0.973888   \n",
       "1  team fortress classic action fps multiplayer v...              0.839787   \n",
       "2  day of defeat fps world war ii multiplayer val...              0.895648   \n",
       "\n",
       "  count_ratings  \n",
       "0        127873  \n",
       "1          3951  \n",
       "2          3814  \n",
       "\n",
       "[3 rows x 22 columns]"
      ]
     },
     "execution_count": 17,
     "metadata": {},
     "output_type": "execute_result"
    }
   ],
   "source": [
    "df_popular = item_feature.copy()\n",
    "\n",
    "buf = df_popular['owners'].str.split(r\"\\-\", expand=True).astype(int)\n",
    "\n",
    "# Количество пользователей\n",
    "df_popular['owners'] = (buf[0] + buf[1])/2\n",
    "# Доля положительных оценок\n",
    "df_popular['proc_positive_ratings'] = df_popular['positive_ratings'] / (df_popular['positive_ratings'] + df_popular['negative_ratings'])\n",
    "df_popular['count_ratings'] = df_popular['positive_ratings'] + df_popular['negative_ratings']\n",
    "\n",
    "#Сортируем по в\n",
    "df_popular.head(3)"
   ]
  },
  {
   "cell_type": "code",
   "execution_count": 18,
   "metadata": {},
   "outputs": [],
   "source": [
    "def weighted_rating(value_columns):\n",
    "    '''\n",
    "    Calculate the average rating by several values:\n",
    "    sum( value[i] / max[i]) where i - index of value  \n",
    "    '''\n",
    "    sum = 0\n",
    "    for v in value_columns:\n",
    "        sum += v / v.max()\n",
    "    return sum / len(value_columns)\n",
    "\n",
    "# Считаем взвешенный рейтинг для игр\n",
    "df_popular['weighted_rating'] = weighted_rating([df_popular['owners'], df_popular['proc_positive_ratings'], df_popular['count_ratings']])"
   ]
  },
  {
   "cell_type": "code",
   "execution_count": 19,
   "metadata": {},
   "outputs": [
    {
     "data": {
      "text/html": [
       "<div>\n",
       "<style scoped>\n",
       "    .dataframe tbody tr th:only-of-type {\n",
       "        vertical-align: middle;\n",
       "    }\n",
       "\n",
       "    .dataframe tbody tr th {\n",
       "        vertical-align: top;\n",
       "    }\n",
       "\n",
       "    .dataframe thead th {\n",
       "        text-align: right;\n",
       "    }\n",
       "</style>\n",
       "<table border=\"1\" class=\"dataframe\">\n",
       "  <thead>\n",
       "    <tr style=\"text-align: right;\">\n",
       "      <th></th>\n",
       "      <th>appid</th>\n",
       "      <th>name</th>\n",
       "      <th>release_date</th>\n",
       "      <th>english</th>\n",
       "      <th>developer</th>\n",
       "      <th>publisher</th>\n",
       "      <th>platforms</th>\n",
       "      <th>required_age</th>\n",
       "      <th>categories</th>\n",
       "      <th>genres</th>\n",
       "      <th>...</th>\n",
       "      <th>negative_ratings</th>\n",
       "      <th>average_playtime</th>\n",
       "      <th>median_playtime</th>\n",
       "      <th>owners</th>\n",
       "      <th>price</th>\n",
       "      <th>description</th>\n",
       "      <th>descr_summary</th>\n",
       "      <th>proc_positive_ratings</th>\n",
       "      <th>count_ratings</th>\n",
       "      <th>weighted_rating</th>\n",
       "    </tr>\n",
       "  </thead>\n",
       "  <tbody>\n",
       "    <tr>\n",
       "      <th>25</th>\n",
       "      <td>730</td>\n",
       "      <td>counterstrike global offensive</td>\n",
       "      <td>2012-08-21</td>\n",
       "      <td>1</td>\n",
       "      <td>valve hidden path entertainment</td>\n",
       "      <td>Valve</td>\n",
       "      <td>windows;mac;linux</td>\n",
       "      <td>0</td>\n",
       "      <td>multiplayer steam achievements full controller...</td>\n",
       "      <td>action;free to play</td>\n",
       "      <td>...</td>\n",
       "      <td>402313</td>\n",
       "      <td>22494</td>\n",
       "      <td>6502</td>\n",
       "      <td>75000000.0</td>\n",
       "      <td>0.0</td>\n",
       "      <td>counterstrike global offensive cs go expands u...</td>\n",
       "      <td>counterstrike global offensive fps multiplayer...</td>\n",
       "      <td>0.867952</td>\n",
       "      <td>3046717</td>\n",
       "      <td>0.789317</td>\n",
       "    </tr>\n",
       "    <tr>\n",
       "      <th>22</th>\n",
       "      <td>570</td>\n",
       "      <td>dota 2</td>\n",
       "      <td>2013-07-09</td>\n",
       "      <td>1</td>\n",
       "      <td>valve</td>\n",
       "      <td>Valve</td>\n",
       "      <td>windows;mac;linux</td>\n",
       "      <td>0</td>\n",
       "      <td>multiplayer coop steam trading cards steam wor...</td>\n",
       "      <td>action;free to play;strategy</td>\n",
       "      <td>...</td>\n",
       "      <td>142079</td>\n",
       "      <td>23944</td>\n",
       "      <td>801</td>\n",
       "      <td>150000000.0</td>\n",
       "      <td>0.0</td>\n",
       "      <td>strongthe mostplayed game on steamstrongbrever...</td>\n",
       "      <td>dota 2 free to play moba strategy valve multip...</td>\n",
       "      <td>0.858710</td>\n",
       "      <td>1005586</td>\n",
       "      <td>0.729589</td>\n",
       "    </tr>\n",
       "    <tr>\n",
       "      <th>19</th>\n",
       "      <td>440</td>\n",
       "      <td>team fortress 2</td>\n",
       "      <td>2007-10-10</td>\n",
       "      <td>1</td>\n",
       "      <td>valve</td>\n",
       "      <td>Valve</td>\n",
       "      <td>windows;mac;linux</td>\n",
       "      <td>0</td>\n",
       "      <td>multiplayer crossplatform multiplayer steam ac...</td>\n",
       "      <td>action;free to play</td>\n",
       "      <td>...</td>\n",
       "      <td>34036</td>\n",
       "      <td>8495</td>\n",
       "      <td>623</td>\n",
       "      <td>35000000.0</td>\n",
       "      <td>0.0</td>\n",
       "      <td>h1the jungle inferno updateh1pa hrefhttpssteam...</td>\n",
       "      <td>team fortress 2 free to play multiplayer fps v...</td>\n",
       "      <td>0.938107</td>\n",
       "      <td>549915</td>\n",
       "      <td>0.450645</td>\n",
       "    </tr>\n",
       "  </tbody>\n",
       "</table>\n",
       "<p>3 rows × 23 columns</p>\n",
       "</div>"
      ],
      "text/plain": [
       "    appid                            name release_date  english  \\\n",
       "25    730  counterstrike global offensive   2012-08-21        1   \n",
       "22    570                          dota 2   2013-07-09        1   \n",
       "19    440                 team fortress 2   2007-10-10        1   \n",
       "\n",
       "                          developer publisher          platforms  \\\n",
       "25  valve hidden path entertainment     Valve  windows;mac;linux   \n",
       "22                            valve     Valve  windows;mac;linux   \n",
       "19                            valve     Valve  windows;mac;linux   \n",
       "\n",
       "    required_age                                         categories  \\\n",
       "25             0  multiplayer steam achievements full controller...   \n",
       "22             0  multiplayer coop steam trading cards steam wor...   \n",
       "19             0  multiplayer crossplatform multiplayer steam ac...   \n",
       "\n",
       "                          genres  ... negative_ratings  average_playtime  \\\n",
       "25           action;free to play  ...           402313             22494   \n",
       "22  action;free to play;strategy  ...           142079             23944   \n",
       "19           action;free to play  ...            34036              8495   \n",
       "\n",
       "    median_playtime       owners  price  \\\n",
       "25             6502   75000000.0    0.0   \n",
       "22              801  150000000.0    0.0   \n",
       "19              623   35000000.0    0.0   \n",
       "\n",
       "                                          description  \\\n",
       "25  counterstrike global offensive cs go expands u...   \n",
       "22  strongthe mostplayed game on steamstrongbrever...   \n",
       "19  h1the jungle inferno updateh1pa hrefhttpssteam...   \n",
       "\n",
       "                                        descr_summary  proc_positive_ratings  \\\n",
       "25  counterstrike global offensive fps multiplayer...               0.867952   \n",
       "22  dota 2 free to play moba strategy valve multip...               0.858710   \n",
       "19  team fortress 2 free to play multiplayer fps v...               0.938107   \n",
       "\n",
       "   count_ratings weighted_rating  \n",
       "25       3046717        0.789317  \n",
       "22       1005586        0.729589  \n",
       "19        549915        0.450645  \n",
       "\n",
       "[3 rows x 23 columns]"
      ]
     },
     "execution_count": 19,
     "metadata": {},
     "output_type": "execute_result"
    }
   ],
   "source": [
    "# Сортируем по взвешенному рейтингу популярности\n",
    "df_popular = df_popular.sort_values('weighted_rating', ascending=False)\n",
    "df_popular.head(3)"
   ]
  },
  {
   "cell_type": "code",
   "execution_count": 20,
   "metadata": {},
   "outputs": [
    {
     "data": {
      "image/png": "[encoded data removed]",
      "text/plain": [
       "<Figure size 648x432 with 1 Axes>"
      ]
     },
     "metadata": {
      "needs_background": "light"
     },
     "output_type": "display_data"
    }
   ],
   "source": [
    "# Визуализируем наиболее популярные игры\n",
    "fix, ax = plt.subplots(figsize=(9,6))\n",
    "sns.barplot(data = df_popular[['name','weighted_rating']].head(10),\n",
    "            y = 'name',\n",
    "            x = 'weighted_rating',\n",
    "            palette = 'mako');\n",
    "sns.despine();"
   ]
  },
  {
   "cell_type": "code",
   "execution_count": 21,
   "metadata": {},
   "outputs": [],
   "source": [
    "def get_popular_pred_train(user_id_test):\n",
    "    '''\n",
    "    Расчет рекомендаций для train выборки \n",
    "    '''\n",
    "    pred_popular = dict()\n",
    "    for user in user_id_test:\n",
    "        pred_popular[user] = df_popular['name'].head(10).tolist()\n",
    "    return pred_popular\n",
    "\n",
    "def get_popular_pred_test(user_id_test,data_train):\n",
    "    '''\n",
    "    Функция возвращает рекомендации для пользователя, за исключением тех позиций,\n",
    "    которые уже есть в train этого пользователя\n",
    "    '''\n",
    "    pred_popular = dict()\n",
    "    for user in user_id_test:\n",
    "        user_games = data_train[data_train.user_id == user][\"item_name\"].tolist()\n",
    "        pred_popular[user] = df_popular[df_popular.name.apply(lambda x: x not in user_games)][\"name\"].head(10).tolist()\n",
    "    return pred_popular    \n",
    "    "
   ]
  },
  {
   "cell_type": "code",
   "execution_count": 22,
   "metadata": {},
   "outputs": [
    {
     "name": "stdout",
     "output_type": "stream",
     "text": [
      "Модель popular base\n",
      "MAP@k train 0.31\n",
      "MAP@k test 0.16\n"
     ]
    }
   ],
   "source": [
    "# Считаем предсказания для train/test\n",
    "pred_popular_train = get_popular_pred_train(user_id_test)\n",
    "pred_popular_test = get_popular_pred_test(user_id_test,data_train)\n",
    "\n",
    "# Считаем метрику качества рекомендаций на train/test\n",
    "mapk_train_pb = map_at_k(pred_popular_train,data_train)\n",
    "mapk_test_pb = map_at_k(pred_popular_test,data_test)\n",
    "\n",
    "print('Модель popular base')\n",
    "print('MAP@k train %.2f' % (mapk_train_pb))\n",
    "print('MAP@k test %.2f' % (mapk_test_pb)) "
   ]
  },
  {
   "cell_type": "code",
   "execution_count": 23,
   "metadata": {},
   "outputs": [
    {
     "name": "stdout",
     "output_type": "stream",
     "text": [
      "Предсказания для случайного пользователя\n"
     ]
    },
    {
     "data": {
      "text/plain": [
       "['counterstrike global offensive',\n",
       " 'unturned',\n",
       " 'warframe',\n",
       " 'portal 2',\n",
       " 'the elder scrolls v skyrim',\n",
       " 'counterstrike',\n",
       " 'terraria',\n",
       " 'portal',\n",
       " 'the witcher 3 wild hunt',\n",
       " 'halflife 2']"
      ]
     },
     "execution_count": 23,
     "metadata": {},
     "output_type": "execute_result"
    }
   ],
   "source": [
    "print(\"Предсказания для случайного пользователя\")\n",
    "pred_popular_test[151603712]"
   ]
  },
  {
   "cell_type": "code",
   "execution_count": 24,
   "metadata": {},
   "outputs": [
    {
     "name": "stdout",
     "output_type": "stream",
     "text": [
      "Предсказания для случайного пользователя\n"
     ]
    },
    {
     "data": {
      "text/plain": [
       "['dota 2',\n",
       " 'unturned',\n",
       " 'warframe',\n",
       " 'garrys mod',\n",
       " 'counterstrike',\n",
       " 'portal',\n",
       " 'the witcher 3 wild hunt',\n",
       " 'halflife 2',\n",
       " 'euro truck simulator 2',\n",
       " 'payday 2']"
      ]
     },
     "execution_count": 24,
     "metadata": {},
     "output_type": "execute_result"
    }
   ],
   "source": [
    "print(\"Предсказания для случайного пользователя\")\n",
    "pred_popular_test[21061921]"
   ]
  },
  {
   "cell_type": "markdown",
   "metadata": {},
   "source": [
    "Видно, что рекомендации разные, так как в итоговой рекомендации убираются те, которые присутствуют в играх пользователя обучающей выборки."
   ]
  },
  {
   "cell_type": "markdown",
   "metadata": {},
   "source": [
    "### 5) FM\n",
    "построим машину факторизации матрицы взаимодействий user-item при помощи библиотеки LightFM"
   ]
  },
  {
   "cell_type": "code",
   "execution_count": 25,
   "metadata": {},
   "outputs": [
    {
     "data": {
      "text/html": [
       "<div>\n",
       "<style scoped>\n",
       "    .dataframe tbody tr th:only-of-type {\n",
       "        vertical-align: middle;\n",
       "    }\n",
       "\n",
       "    .dataframe tbody tr th {\n",
       "        vertical-align: top;\n",
       "    }\n",
       "\n",
       "    .dataframe thead th {\n",
       "        text-align: right;\n",
       "    }\n",
       "</style>\n",
       "<table border=\"1\" class=\"dataframe\">\n",
       "  <thead>\n",
       "    <tr style=\"text-align: right;\">\n",
       "      <th></th>\n",
       "      <th>user_id</th>\n",
       "      <th>item_name</th>\n",
       "      <th>play</th>\n",
       "      <th>play_hours</th>\n",
       "      <th>col_5</th>\n",
       "    </tr>\n",
       "  </thead>\n",
       "  <tbody>\n",
       "    <tr>\n",
       "      <th>5</th>\n",
       "      <td>151603712</td>\n",
       "      <td>spore</td>\n",
       "      <td>play</td>\n",
       "      <td>14.9</td>\n",
       "      <td>0</td>\n",
       "    </tr>\n",
       "    <tr>\n",
       "      <th>7</th>\n",
       "      <td>151603712</td>\n",
       "      <td>fallout new vegas</td>\n",
       "      <td>play</td>\n",
       "      <td>12.1</td>\n",
       "      <td>0</td>\n",
       "    </tr>\n",
       "    <tr>\n",
       "      <th>9</th>\n",
       "      <td>151603712</td>\n",
       "      <td>left 4 dead 2</td>\n",
       "      <td>play</td>\n",
       "      <td>8.9</td>\n",
       "      <td>0</td>\n",
       "    </tr>\n",
       "    <tr>\n",
       "      <th>11</th>\n",
       "      <td>151603712</td>\n",
       "      <td>huniepop</td>\n",
       "      <td>play</td>\n",
       "      <td>8.5</td>\n",
       "      <td>0</td>\n",
       "    </tr>\n",
       "    <tr>\n",
       "      <th>13</th>\n",
       "      <td>151603712</td>\n",
       "      <td>path of exile</td>\n",
       "      <td>play</td>\n",
       "      <td>8.1</td>\n",
       "      <td>0</td>\n",
       "    </tr>\n",
       "  </tbody>\n",
       "</table>\n",
       "</div>"
      ],
      "text/plain": [
       "      user_id          item_name  play  play_hours  col_5\n",
       "5   151603712              spore  play        14.9      0\n",
       "7   151603712  fallout new vegas  play        12.1      0\n",
       "9   151603712      left 4 dead 2  play         8.9      0\n",
       "11  151603712           huniepop  play         8.5      0\n",
       "13  151603712      path of exile  play         8.1      0"
      ]
     },
     "execution_count": 25,
     "metadata": {},
     "output_type": "execute_result"
    }
   ],
   "source": [
    "# Таблица взаимодействий\n",
    "data_train.head()"
   ]
  },
  {
   "cell_type": "code",
   "execution_count": 26,
   "metadata": {},
   "outputs": [],
   "source": [
    "# Создаем матрицу users-items по набору train\n",
    "user_item_data = pd.pivot_table(data_train, index='user_id', columns='item_name', values='play_hours')\n",
    "# Заполняем NaN нулями\n",
    "user_item_data = user_item_data.fillna(0)"
   ]
  },
  {
   "cell_type": "code",
   "execution_count": 27,
   "metadata": {},
   "outputs": [
    {
     "name": "stdout",
     "output_type": "stream",
     "text": [
      "Sparsity: 0.91%. This means that 0.91% of the user-item ratings have a value.\n"
     ]
    }
   ],
   "source": [
    "# Смотрим на разреженность матрицы\n",
    "mat_train = csr_matrix(user_item_data)\n",
    "sparsity = float(len(mat_train.nonzero()[0]))\n",
    "sparsity /= (mat_train.shape[0] * mat_train.shape[1])\n",
    "sparsity *= 100\n",
    "print(f'Sparsity: {sparsity:4.2f}%. This means that {sparsity:4.2f}% of the user-item ratings have a value.')"
   ]
  },
  {
   "cell_type": "code",
   "execution_count": 28,
   "metadata": {},
   "outputs": [
    {
     "data": {
      "text/plain": [
       "(1449, 2318)"
      ]
     },
     "execution_count": 28,
     "metadata": {},
     "output_type": "execute_result"
    }
   ],
   "source": [
    "# Размерность матрицы\n",
    "mat_train.shape"
   ]
  },
  {
   "cell_type": "markdown",
   "metadata": {},
   "source": [
    "Определим функцию get_pred_FM для расчета предсказаний модели LigthFM"
   ]
  },
  {
   "cell_type": "code",
   "execution_count": 29,
   "metadata": {},
   "outputs": [],
   "source": [
    "def get_pred_FM_train(model,interactions,item_features = None, k = 10):\n",
    "    '''\n",
    "    Функция возвращет словарь {user_id:топ-k рекомендаций} для всех пользователей\n",
    "    model - модель LightFM\n",
    "    interactions - sparse матрица взаимодействий\n",
    "    item_features - sparse матрица описаний item\n",
    "    k - число лучших рекомендаций    \n",
    "    '''\n",
    "    user_ids = list(user_item_data.index)\n",
    "    item_names = list(user_item_data.columns)\n",
    "    n_users, n_items = mat_train.shape\n",
    "    res = dict()\n",
    "    for user_ind in range(0,mat_train.shape[0]):\n",
    "        scores = model.predict(user_ind,np.arange(n_items),item_features = item_features)\n",
    "        top_k_ind = np.array(scores.argsort()[::-1][1:k+1],dtype = int).tolist()\n",
    "        top_k_items = np.array(item_names)[top_k_ind].tolist()\n",
    "        user_id = user_ids[user_ind]\n",
    "        res[user_id] = top_k_items\n",
    "    return res"
   ]
  },
  {
   "cell_type": "code",
   "execution_count": 30,
   "metadata": {},
   "outputs": [],
   "source": [
    "def get_pred_FM_test(model,interactions,data_train,item_features = None, k = 10):\n",
    "    '''\n",
    "    Функция возвращет словарь {user_id:топ-k рекомендаций} для всех пользователей,\n",
    "    исключая позиции, присутствующие в data_train играх пользователя\n",
    "    model - модель LightFM\n",
    "    interactions - sparse матрица взаимодействий\n",
    "    item_features - sparse матрица описаний item\n",
    "    k - число лучших рекомендаций    \n",
    "    '''\n",
    "    user_ids = list(user_item_data.index)\n",
    "    item_names = list(user_item_data.columns)\n",
    "    n_users, n_items = mat_train.shape\n",
    "    res = dict()\n",
    "    for user_ind in range(0,mat_train.shape[0]):\n",
    "        user_id = user_ids[user_ind]\n",
    "        user_games = data_train[data_train.user_id == user_id][\"item_name\"].tolist()\n",
    "        scores = model.predict(user_ind,np.arange(n_items),item_features = item_features)\n",
    "        # сортируем позиции\n",
    "        top_ind = np.array(scores.argsort()[::-1],dtype = int).tolist()\n",
    "        # названия игр\n",
    "        top_items = np.array(item_names)[top_ind].tolist()\n",
    "        # убираем игры, которые есть у пользователя в train и берем k первых позиций\n",
    "        top_k_items = [x for x in top_items if x not in user_games][0:k]\n",
    "        res[user_id] = top_k_items\n",
    "    return res"
   ]
  },
  {
   "cell_type": "code",
   "execution_count": 70,
   "metadata": {},
   "outputs": [
    {
     "name": "stderr",
     "output_type": "stream",
     "text": [
      "Epoch: 100%|█████████████████████████████████████████████████████████████████████████| 100/100 [01:27<00:00,  1.15it/s]\n"
     ]
    }
   ],
   "source": [
    "# Создадим и обучим машину факторизации из библиотеки LigthFM:\n",
    "\n",
    "model_fm = LightFM(loss='warp',\n",
    "                random_state=2016,\n",
    "                learning_rate=0.01,\n",
    "                max_sampled=300,\n",
    "                no_components=100,\n",
    "                #item_alpha = 1e-6\n",
    "                )\n",
    "\n",
    "model_fm = model_fm.fit(mat_train,\n",
    "                  epochs=100,\n",
    "                  num_threads=16, verbose=True)\n"
   ]
  },
  {
   "cell_type": "code",
   "execution_count": 71,
   "metadata": {},
   "outputs": [
    {
     "name": "stdout",
     "output_type": "stream",
     "text": [
      "Модель FM\n",
      "MAP@k train 0.54\n",
      "MAP@k test 0.22\n"
     ]
    }
   ],
   "source": [
    "# Предсказания модели\n",
    "pred_fm_train = get_pred_FM_train(model_fm,user_item_data,item_features = None, k = 10)\n",
    "pred_fm_test = get_pred_FM_test(model_fm,user_item_data,data_train,item_features = None, k = 10)\n",
    "# Считаем метрики точности на train/test на train\n",
    "mapk_train_fm = map_at_k(pred_fm_train, data_train, 10)\n",
    "mapk_test_fm = map_at_k(pred_fm_test, data_test, 10)\n",
    "\n",
    "print('Модель FM')\n",
    "print('MAP@k train %.2f' % (mapk_train_fm))\n",
    "print('MAP@k test %.2f' % (mapk_test_fm))\n",
    "#print('AUC: train %.2f' % (auc))"
   ]
  },
  {
   "cell_type": "code",
   "execution_count": 66,
   "metadata": {},
   "outputs": [
    {
     "data": {
      "application/vnd.jupyter.widget-view+json": {
       "model_id": "0897110f586848c2b4e57dc8b3dab029",
       "version_major": 2,
       "version_minor": 0
      },
      "text/plain": [
       "HBox(children=(IntProgress(value=0, max=9), HTML(value='')))"
      ]
     },
     "metadata": {},
     "output_type": "display_data"
    },
    {
     "name": "stdout",
     "output_type": "stream",
     "text": [
      "0.17836663489872637 0.17836663489872637 0.001 50\n",
      "0.17808926791328494 0.17836663489872637 0.001 75\n",
      "0.17842860976919003 0.17842860976919003 0.001 100\n",
      "0.1977047389003912 0.1977047389003912 0.005 50\n",
      "0.20014057313746772 0.20014057313746772 0.005 75\n",
      "0.19725727650158306 0.20014057313746772 0.005 100\n",
      "0.21145247954254154 0.21145247954254154 0.01 50\n",
      "0.21928179806544187 0.21928179806544187 0.01 75\n",
      "0.2247894004622786 0.2247894004622786 0.01 100\n",
      "\n",
      "Wall time: 9min 54s\n"
     ]
    }
   ],
   "source": [
    "%%time\n",
    "# Подбор гиперпараметров №1\n",
    "learning_rate=[0.001,0.005,0.01]\n",
    "no_components=[50,75,100]\n",
    "params_list = [(x,y) for x in learning_rate for y in no_components]\n",
    "best_model = LightFM(loss='warp',\n",
    "                random_state=2016,\n",
    "                )\n",
    "best_score = 0\n",
    "for lr,n_comp in tqdm_notebook(params_list):\n",
    "    model = LightFM(loss='warp',\n",
    "                random_state=2016,\n",
    "                learning_rate=lr,\n",
    "                no_components = n_comp,\n",
    "                max_sampled=300\n",
    "                )\n",
    "    \n",
    "    model = model.fit(mat_train,\n",
    "                      epochs=100,\n",
    "                      num_threads=16, verbose=False)\n",
    "    pred = get_pred_FM_test(model,user_item_data,data_train,item_features = None, k = 10)\n",
    "    score = map_at_k(pred,data_test,10)\n",
    "    if score>best_score:\n",
    "        best_score = score\n",
    "        best_model = model\n",
    "    print(score,best_score, lr,n_comp)"
   ]
  },
  {
   "cell_type": "code",
   "execution_count": 69,
   "metadata": {},
   "outputs": [
    {
     "data": {
      "application/vnd.jupyter.widget-view+json": {
       "model_id": "13f6e005804944dfaa3beddb0ca534fb",
       "version_major": 2,
       "version_minor": 0
      },
      "text/plain": [
       "HBox(children=(IntProgress(value=0, max=3), HTML(value='')))"
      ]
     },
     "metadata": {},
     "output_type": "display_data"
    },
    {
     "name": "stdout",
     "output_type": "stream",
     "text": [
      "0.18680135178064816 0.18680135178064816 0.02 50\n",
      "0.15099504858304083 0.18680135178064816 0.02 75\n",
      "0.11899884430422783 0.18680135178064816 0.02 100\n",
      "\n",
      "Wall time: 4min 24s\n"
     ]
    }
   ],
   "source": [
    "%%time\n",
    "# Подбор гиперпараметров №2\n",
    "learning_rate= [0.02]\n",
    "no_components=[50,75,100]\n",
    "params_list = [(x,y) for x in learning_rate for y in no_components]\n",
    "best_model = LightFM(loss='warp',\n",
    "                random_state=2016,\n",
    "                )\n",
    "best_score = 0\n",
    "for lr,n_comp in tqdm_notebook(params_list):\n",
    "    model = LightFM(loss='warp',\n",
    "                random_state=2016,\n",
    "                learning_rate=lr,\n",
    "                no_components = n_comp,\n",
    "                max_sampled=300\n",
    "                )\n",
    "    \n",
    "    model = model.fit(mat_train,\n",
    "                      epochs=100,\n",
    "                      num_threads=16, verbose=False)\n",
    "    pred = get_pred_FM_test(model,user_item_data,data_train,item_features = None, k = 10)\n",
    "    score = map_at_k(pred,data_test,10)\n",
    "    if score>best_score:\n",
    "        best_score = score\n",
    "        best_model = model\n",
    "    print(score,best_score, lr,n_comp)"
   ]
  },
  {
   "cell_type": "markdown",
   "metadata": {},
   "source": [
    "Оставляем параметры learning_rate=0.01 и no_components=100"
   ]
  },
  {
   "cell_type": "markdown",
   "metadata": {},
   "source": [
    "### 6) Content base подход\n",
    "Используем описание игр для создания векторов контента. В качестве векторизации рассмотрим два подхода построения эмбеддингов слов - word2vec и TF-IDF.   \n",
    "В качестве описания берем столбец desc_all матрицы описаний игр.   \n",
    "Эмбеддинг описания - сумма эмбеддингов входящих в него слов."
   ]
  },
  {
   "cell_type": "markdown",
   "metadata": {},
   "source": [
    "Определим функции косинусной близости векторов и выбора топ-к наиболее близких"
   ]
  },
  {
   "cell_type": "code",
   "execution_count": 33,
   "metadata": {},
   "outputs": [],
   "source": [
    "def cosine_sim(a,b):\n",
    "    '''\n",
    "    Возвращает меру косинусной близости векторов a и b\n",
    "    '''\n",
    "    a = np.array(a)\n",
    "    b = np.array(b)\n",
    "    return a.dot(b)/np.linalg.norm(a)/np.linalg.norm(b)\n",
    "\n",
    "def top_k(vec,item_embeddings,item_names,k):\n",
    "    '''\n",
    "    Возвращает список топ-k рекомендаций по косинусной близости для вектора описания vec\n",
    "    vec - входной вектор эмбеддингов\n",
    "    item_emb - матрица векторов всех эмбеддингов - описаний игр\n",
    "    item_names - наименования эмбеддингов, соответсвтующие item_emb\n",
    "    k - количество рекомендаций\n",
    "    '''\n",
    "    cos_sim_vectors = np.array([cosine_sim(vec,vec_i) for vec_i in item_embeddings]).reshape(-1)\n",
    "    top_k_ind = cos_sim_vectors.argsort()[::-1][1:(k+1)].tolist()\n",
    "    return [(x,y) for x,y in zip(list(item_names[top_k_ind]),cos_sim_vectors[top_k_ind])]"
   ]
  },
  {
   "cell_type": "markdown",
   "metadata": {},
   "source": [
    "### 6.1) Подготовка векторных представлений"
   ]
  },
  {
   "cell_type": "code",
   "execution_count": 34,
   "metadata": {},
   "outputs": [],
   "source": [
    "# Определяем стоп-слова\n",
    "stop_words = set(stopwords.words(\"english\"))\n",
    "# Определяем лемматизацию\n",
    "lemmatizer = WordNetLemmatizer()"
   ]
  },
  {
   "cell_type": "code",
   "execution_count": 35,
   "metadata": {},
   "outputs": [
    {
     "data": {
      "text/plain": [
       "'0rbitalis simulation indie puzzle alan zucconi singleplayer steam achievements steam trading cards steam workshop steam cloud steam leaderboards includes level editor'"
      ]
     },
     "execution_count": 35,
     "metadata": {},
     "output_type": "execute_result"
    }
   ],
   "source": [
    "# Для каждого item из user_item_data вытаскиваем описание и создаем общий словарь\n",
    "sent_4_w2v = []\n",
    "for item in list(user_item_data.columns):\n",
    "    sent = item_feature.loc[item_feature.name==item,\"descr_summary\"].values.astype(str)[0]\n",
    "    sent_4_w2v.append(sent)\n",
    "# Пример описания игры\n",
    "sent_4_w2v[0]"
   ]
  },
  {
   "cell_type": "code",
   "execution_count": 36,
   "metadata": {},
   "outputs": [
    {
     "data": {
      "text/plain": [
       "'aaaaaa a reckless disregard for gravity action indie firstperson dejobaan games llc singleplayer steam achievements steam leaderboards'"
      ]
     },
     "execution_count": 36,
     "metadata": {},
     "output_type": "execute_result"
    }
   ],
   "source": [
    "# Пример описания игры\n",
    "sent_4_w2v[33]"
   ]
  },
  {
   "cell_type": "code",
   "execution_count": 37,
   "metadata": {},
   "outputs": [],
   "source": [
    "# Токенизируем тексты, убираем стоп-слова и леммматизируем\n",
    "def preprocessing_word(words_list, lemmatizer, stop_words):\n",
    "    '''\n",
    "    Функция убирает стоп-слова и лемматизирует слова из списка\n",
    "    words_list - список слов\n",
    "    lemmatizer - лемматизатор\n",
    "    stop_words - множество стоп-слов\n",
    "    '''\n",
    "    words_list = [lemmatizer.lemmatize(word) for word in words_list if word not in stop_words]\n",
    "    return words_list"
   ]
  },
  {
   "cell_type": "code",
   "execution_count": 38,
   "metadata": {},
   "outputs": [
    {
     "name": "stdout",
     "output_type": "stream",
     "text": [
      "Элемент корпуса для обучения word2vec\n",
      "['0rbitalis', 'simulation', 'indie', 'puzzle', 'alan', 'zucconi', 'singleplayer', 'steam', 'achievement', 'steam', 'trading', 'card', 'steam', 'workshop', 'steam', 'cloud', 'steam', 'leaderboards', 'includes', 'level', 'editor']\n",
      "Элемент корпуса для обучения tf-idf\n",
      "0rbitalis simulation indie puzzle alan zucconi singleplayer steam achievement steam trading card steam workshop steam cloud steam leaderboards includes level editor\n"
     ]
    }
   ],
   "source": [
    "# Корпус для word2vec\n",
    "data_w2v = [preprocessing_word(x.split(),lemmatizer,stop_words) for x in sent_4_w2v]\n",
    "\n",
    "# Корпус для TF-IDF\n",
    "data_tfidf = [\" \".join(preprocessing_word(x.split(),lemmatizer,stop_words)) for x in sent_4_w2v]\n",
    "\n",
    "print(\"Элемент корпуса для обучения word2vec\")\n",
    "print(data_w2v[0])\n",
    "print(\"Элемент корпуса для обучения tf-idf\")\n",
    "print(data_tfidf[0])"
   ]
  },
  {
   "cell_type": "markdown",
   "metadata": {},
   "source": [
    "### 6.2) Word2Vec"
   ]
  },
  {
   "cell_type": "code",
   "execution_count": 39,
   "metadata": {},
   "outputs": [],
   "source": [
    "# Передаем список списков с токенизированными текстами и задаем словарь\n",
    "wv_model = word2vec.Word2Vec(vector_size=100, workers=3,min_count=1)\n",
    "wv_model.build_vocab(corpus_iterable = data_w2v)"
   ]
  },
  {
   "cell_type": "code",
   "execution_count": 40,
   "metadata": {},
   "outputs": [
    {
     "data": {
      "text/plain": [
       "(4225802, 7682200)"
      ]
     },
     "execution_count": 40,
     "metadata": {},
     "output_type": "execute_result"
    }
   ],
   "source": [
    "# Обучаем word2vec\n",
    "wv_model.train(data_w2v, total_examples=wv_model.corpus_count, epochs=200, report_delay=1)"
   ]
  },
  {
   "cell_type": "code",
   "execution_count": 41,
   "metadata": {},
   "outputs": [],
   "source": [
    "# Делаем матрицу с признаками - суммами эмбеддингов слов для описания каждого item\n",
    "item_feat_w2v = np.array([sum([wv_model.wv[x] for x in data_w2v[i]]) for i in range(0,len(data_w2v))])"
   ]
  },
  {
   "cell_type": "code",
   "execution_count": 42,
   "metadata": {},
   "outputs": [],
   "source": [
    "# Отнормируем вектора \n",
    "sc = StandardScaler()\n",
    "item_feat_w2v_sc = sc.fit_transform(item_feat_w2v)\n",
    "item_feat_w2v_sc_csr = csr_matrix(item_feat_w2v_sc)"
   ]
  },
  {
   "cell_type": "markdown",
   "metadata": {},
   "source": [
    "Делаем предсказания по близости векторов - для каждого пользователя берутся топ-3 его игры по игровому времени.\n",
    "Для каждой игры ищется 10 похожих, затем выбираются 10 тех, которые чаще всего встречаются в списке из суммарных 30 рекомендаций."
   ]
  },
  {
   "cell_type": "code",
   "execution_count": 43,
   "metadata": {},
   "outputs": [],
   "source": [
    "def get_content_rec_train(num_top_item = 3, k = 10, items_embedding = item_feat_w2v):\n",
    "    '''\n",
    "    Функция расчета рекомендаций user_id:[rec_items] для content base подхода.\n",
    "    Для каждого пользователя берется num_top_item игр с наибольшим игровым временем. \n",
    "    Для каждой из этих игр ищется топ-k близких игр в пространстве эмбеддингов items_embedding\n",
    "    Среди полученных num_top_item*k игр рекомендуются топ-k наиболее встречаемых\n",
    "    '''\n",
    "    dict_pred = dict()\n",
    "    for user_id in tqdm_notebook(user_id_test):\n",
    "        l = list()\n",
    "        d = dict()\n",
    "        for i in range(0, num_top_item):\n",
    "            item_name = data_train[data_train.user_id == user_id].sort_values('play_hours', ascending=False)['item_name'].iloc[i]\n",
    "            item_vector = items_embedding[user_item_data.columns == item_name]\n",
    "            rec_items = top_k(item_vector,items_embedding,user_item_data.columns,k)\n",
    "            # Обновляем суммарную близость для каждой рекомендации\n",
    "            for item in rec_items:\n",
    "                d[item[0]] = item[1] + d.get(item[0],0)\n",
    "\n",
    "        d_sorted = sorted(d.items(), key=lambda x: x[1],  reverse=True)\n",
    "        dict_pred[user_id] = [i[0] for i in d_sorted]\n",
    "    return dict_pred\n"
   ]
  },
  {
   "cell_type": "code",
   "execution_count": 44,
   "metadata": {},
   "outputs": [],
   "source": [
    "def top_k_test(vec,item_embeddings,user_games,item_names,k):\n",
    "    '''\n",
    "    Возвращает список топ-k рекомендаций по косинусной близости для вектора описания vec,\n",
    "    исключая игры из train для каждого пользователя\n",
    "    vec - входной вектор эмбеддингов\n",
    "    item_emb - матрица векторов всех эмбеддингов - описаний игр\n",
    "    item_names - наименования эмбеддингов, соответсвтующие item_emb\n",
    "    k - количество рекомендаций\n",
    "    '''\n",
    "    cos_sim_vectors = np.array([cosine_sim(vec,vec_i) for vec_i in item_embeddings]).reshape(-1)\n",
    "    top_ind = cos_sim_vectors.argsort()[::-1].tolist()\n",
    "    top_items_without_train = [(x,y) for x,y in zip(list(item_names[top_ind]),cos_sim_vectors[top_ind]) if x not in user_games]\n",
    "    return top_items_without_train[0:k]"
   ]
  },
  {
   "cell_type": "code",
   "execution_count": 45,
   "metadata": {},
   "outputs": [],
   "source": [
    "def get_content_rec_test(num_top_item = 3, k = 10, items_embedding = item_feat_w2v, data_train = data_train):\n",
    "    '''\n",
    "    Функция расчета рекомендаций user_id:[rec_items] для content base подхода.\n",
    "    Для каждого пользователя берется num_top_item игр с наибольшим игровым временем. \n",
    "    Для каждой из этих игр ищется топ-k близких игр в пространстве эмбеддингов items_embedding\n",
    "    Среди полученных num_top_item*k игр рекомендуются топ-k наиболее встречаемых\n",
    "    '''\n",
    "    dict_pred = dict()\n",
    "    for user_id in tqdm_notebook(user_id_test):\n",
    "        l = list()\n",
    "        d = dict()\n",
    "        for i in range(0, num_top_item):\n",
    "            item_name = data_train[data_train.user_id == user_id].sort_values('play_hours', ascending=False)['item_name'].iloc[i]\n",
    "            item_vector = items_embedding[user_item_data.columns == item_name]\n",
    "            user_games = data_train[data_train.user_id == user_id][\"item_name\"].tolist()\n",
    "            rec_items = top_k_test(item_vector, items_embedding, user_games, user_item_data.columns,k)\n",
    "            # Обновляем суммарную близость для каждой рекомендации\n",
    "            for item in rec_items:\n",
    "                d[item[0]] = item[1] + d.get(item[0],0)\n",
    "\n",
    "        d_sorted = sorted(d.items(), key=lambda x: x[1],  reverse=True)\n",
    "        dict_pred[user_id] = [i[0] for i in d_sorted][0:k]\n",
    "    return dict_pred"
   ]
  },
  {
   "cell_type": "code",
   "execution_count": 46,
   "metadata": {},
   "outputs": [
    {
     "data": {
      "application/vnd.jupyter.widget-view+json": {
       "model_id": "4593f23b06bd4f858ce1d2ce349772ba",
       "version_major": 2,
       "version_minor": 0
      },
      "text/plain": [
       "HBox(children=(IntProgress(value=0, max=1449), HTML(value='')))"
      ]
     },
     "metadata": {},
     "output_type": "display_data"
    },
    {
     "name": "stdout",
     "output_type": "stream",
     "text": [
      "\n"
     ]
    },
    {
     "data": {
      "application/vnd.jupyter.widget-view+json": {
       "model_id": "a5dfb0e180434e4298ab969d4260aec4",
       "version_major": 2,
       "version_minor": 0
      },
      "text/plain": [
       "HBox(children=(IntProgress(value=0, max=1449), HTML(value='')))"
      ]
     },
     "metadata": {},
     "output_type": "display_data"
    },
    {
     "name": "stdout",
     "output_type": "stream",
     "text": [
      "\n",
      "Content_based Word2Vec\n",
      "MAP@k train 0.11\n",
      "MAP@k test 0.05\n",
      "Wall time: 4min 52s\n"
     ]
    }
   ],
   "source": [
    "%%time\n",
    "# Делаем предсказания для word2vec представления описаний игр\n",
    "pred_w2v_train = get_content_rec_train(num_top_item = 3, k = 10, items_embedding = item_feat_w2v)\n",
    "pred_w2v_test = get_content_rec_test(num_top_item = 3, k = 10, items_embedding = item_feat_w2v, data_train = data_train)\n",
    "\n",
    "# Считаем метрики точности на train/test \n",
    "mapk_train_w2v = map_at_k(pred_w2v_train, data_train, 10)\n",
    "mapk_test_w2v = map_at_k(pred_w2v_test, data_test, 10)\n",
    "\n",
    "print('Content_based Word2Vec')\n",
    "print('MAP@k train %.2f' % (mapk_train_w2v))\n",
    "print('MAP@k test %.2f' % (mapk_test_w2v))\n",
    "#print('AUC: train %.2f' % (auc))"
   ]
  },
  {
   "cell_type": "markdown",
   "metadata": {},
   "source": [
    "### 6.3) TF-IDF"
   ]
  },
  {
   "cell_type": "code",
   "execution_count": 47,
   "metadata": {},
   "outputs": [],
   "source": [
    "# Задаем векторизацию до трехграммных сочетаний и обучаем на наборе с обработанными уже текстами\n",
    "vectorizer = TfidfVectorizer(ngram_range = (1,3),max_features=10000)\n",
    "item_feat_tfidf_csr = vectorizer.fit_transform(data_tfidf)\n",
    "item_feat_tfidf = item_feat_tfidf_csr.toarray()"
   ]
  },
  {
   "cell_type": "code",
   "execution_count": 48,
   "metadata": {},
   "outputs": [
    {
     "data": {
      "application/vnd.jupyter.widget-view+json": {
       "model_id": "f8b2f288cfbc479f8c1a7834c3191e17",
       "version_major": 2,
       "version_minor": 0
      },
      "text/plain": [
       "HBox(children=(IntProgress(value=0, max=1449), HTML(value='')))"
      ]
     },
     "metadata": {},
     "output_type": "display_data"
    },
    {
     "name": "stdout",
     "output_type": "stream",
     "text": [
      "\n"
     ]
    },
    {
     "data": {
      "application/vnd.jupyter.widget-view+json": {
       "model_id": "0d30221c3b1f463b84fe125c54b89929",
       "version_major": 2,
       "version_minor": 0
      },
      "text/plain": [
       "HBox(children=(IntProgress(value=0, max=1449), HTML(value='')))"
      ]
     },
     "metadata": {},
     "output_type": "display_data"
    },
    {
     "name": "stdout",
     "output_type": "stream",
     "text": [
      "\n",
      "Content_based TF-IDF\n",
      "MAP@k train 0.11\n",
      "MAP@k test 0.05\n"
     ]
    }
   ],
   "source": [
    "# Делаем предсказания для tf-idf представления описаний игр\n",
    "pred_tfidf_train = get_content_rec_train(num_top_item = 3, k = 10, items_embedding = item_feat_tfidf)\n",
    "pred_tfidf_test = get_content_rec_test(num_top_item = 3, k = 10, items_embedding = item_feat_tfidf, data_train = data_train)\n",
    "# Считаем метрики точности на train/test \n",
    "mapk_train_tfidf = map_at_k(pred_tfidf_train, data_train, 10)\n",
    "mapk_test_tfidf = map_at_k(pred_tfidf_test, data_test, 10)\n",
    "\n",
    "print('Content_based TF-IDF')\n",
    "print('MAP@k train %.2f' % (mapk_train_tfidf))\n",
    "print('MAP@k test %.2f' % (mapk_test_tfidf))"
   ]
  },
  {
   "cell_type": "markdown",
   "metadata": {},
   "source": [
    "Примеры рекомендаций по разным методам векторизации описаний"
   ]
  },
  {
   "cell_type": "code",
   "execution_count": 49,
   "metadata": {},
   "outputs": [
    {
     "name": "stdout",
     "output_type": "stream",
     "text": [
      "Рекомендации по TF-IDF:\n"
     ]
    },
    {
     "data": {
      "text/plain": [
       "['depth',\n",
       " 'team fortress 2',\n",
       " 'labyronia rpg',\n",
       " 'neverending nightmares',\n",
       " 'influent',\n",
       " 'just get through',\n",
       " 'the banner saga',\n",
       " 'shadow warrior',\n",
       " 'boo bunny plague',\n",
       " 'dex']"
      ]
     },
     "execution_count": 49,
     "metadata": {},
     "output_type": "execute_result"
    }
   ],
   "source": [
    "print(\"Рекомендации по TF-IDF:\")\n",
    "pred_tfidf_test[95084569]"
   ]
  },
  {
   "cell_type": "code",
   "execution_count": 50,
   "metadata": {},
   "outputs": [
    {
     "name": "stdout",
     "output_type": "stream",
     "text": [
      "Рекомендации по Word2Vec:\n"
     ]
    },
    {
     "data": {
      "text/plain": [
       "['killing floor 2',\n",
       " 'team fortress 2',\n",
       " 'garrys mod',\n",
       " 'orion prelude',\n",
       " 'depth',\n",
       " 'dying light',\n",
       " 'slender the arrival',\n",
       " 'boid',\n",
       " 'codename cure',\n",
       " 'neverending nightmares']"
      ]
     },
     "execution_count": 50,
     "metadata": {},
     "output_type": "execute_result"
    }
   ],
   "source": [
    "print(\"Рекомендации по Word2Vec:\")\n",
    "pred_w2v_test[95084569]"
   ]
  },
  {
   "cell_type": "markdown",
   "metadata": {},
   "source": [
    "### 7). LightFM + text\n",
    "Добавим в модель факторизации эмбеддинги описания игр, полученных с помощью Word2Vec и TF-IDF"
   ]
  },
  {
   "cell_type": "markdown",
   "metadata": {},
   "source": [
    "LightFM + Word2Vec:"
   ]
  },
  {
   "cell_type": "code",
   "execution_count": 72,
   "metadata": {},
   "outputs": [
    {
     "name": "stderr",
     "output_type": "stream",
     "text": [
      "Epoch: 100%|█████████████████████████████████████████████████████████████████████████| 100/100 [46:06<00:00, 27.66s/it]\n"
     ]
    }
   ],
   "source": [
    "\n",
    "model_fm_w2v = LightFM(loss='warp',\n",
    "                random_state=2016,\n",
    "                learning_rate=0.01,\n",
    "                max_sampled=300,\n",
    "                no_components = 100\n",
    "                )\n",
    "\n",
    "model_fm_w2v = model_fm_w2v.fit(mat_train,\n",
    "                  item_features = item_feat_w2v_sc_csr,\n",
    "                  epochs=100,\n",
    "                  num_threads=16, verbose=True)\n"
   ]
  },
  {
   "cell_type": "code",
   "execution_count": 73,
   "metadata": {},
   "outputs": [
    {
     "name": "stdout",
     "output_type": "stream",
     "text": [
      "Модель FM + w2v\n",
      "MAP@k train 0.51\n",
      "MAP@k test 0.12\n"
     ]
    }
   ],
   "source": [
    "# Предсказания модели\n",
    "pred_fm_w2v_train = get_pred_FM_train(model_fm_w2v,user_item_data,item_features = item_feat_w2v_sc_csr, k = 10)\n",
    "pred_fm_w2v_test = get_pred_FM_test(model_fm_w2v,user_item_data,data_train,item_features = item_feat_w2v_sc_csr, k = 10)\n",
    "\n",
    "mapk_train_fm_w2v = map_at_k(pred_fm_w2v_train, data_train, 10)\n",
    "mapk_test_fm_w2v = map_at_k(pred_fm_w2v_test, data_test, 10)\n",
    "\n",
    "print('Модель FM + w2v')\n",
    "print('MAP@k train %.2f' % (mapk_train_fm_w2v))\n",
    "print('MAP@k test %.2f' % (mapk_test_fm_w2v))\n"
   ]
  },
  {
   "cell_type": "markdown",
   "metadata": {},
   "source": [
    "LightFM + TF-IDF:"
   ]
  },
  {
   "cell_type": "code",
   "execution_count": 74,
   "metadata": {},
   "outputs": [
    {
     "name": "stderr",
     "output_type": "stream",
     "text": [
      "Epoch: 100%|█████████████████████████████████████████████████████████████████████████| 100/100 [25:19<00:00, 15.19s/it]\n"
     ]
    }
   ],
   "source": [
    " model_fm_tfidf = LightFM(loss='warp',\n",
    "                random_state = 2016,\n",
    "                learning_rate = 0.01,\n",
    "                max_sampled = 300,\n",
    "                no_components = 100\n",
    "                )\n",
    "\n",
    "model_fm_tfidf = model_fm_tfidf.fit(mat_train,\n",
    "                  item_features = item_feat_tfidf_csr,\n",
    "                  epochs=100,\n",
    "                  num_threads=16, verbose=True)\n"
   ]
  },
  {
   "cell_type": "code",
   "execution_count": 75,
   "metadata": {},
   "outputs": [
    {
     "name": "stdout",
     "output_type": "stream",
     "text": [
      "Модель FM + TF-IDF\n",
      "MAP@k train 0.66\n",
      "MAP@k test 0.22\n"
     ]
    }
   ],
   "source": [
    "# Предсказания модели\n",
    "pred_fm_tfidf_train = get_pred_FM_train(model_fm_tfidf,user_item_data,item_features = item_feat_tfidf_csr, k = 10)\n",
    "pred_fm_tfidf_test = get_pred_FM_test(model_fm_tfidf,user_item_data,data_train,item_features = item_feat_tfidf_csr, k = 10)\n",
    "\n",
    "# Считаем метрики точности на train/test\n",
    "mapk_train_fm_tfidf = map_at_k(pred_fm_tfidf_train, data_train, 10)\n",
    "mapk_test_fm_tfidf = map_at_k(pred_fm_tfidf_test, data_test, 10)\n",
    "\n",
    "print('Модель FM + TF-IDF')\n",
    "print('MAP@k train %.2f' % (mapk_train_fm_tfidf))\n",
    "print('MAP@k test %.2f' % (mapk_test_fm_tfidf))\n"
   ]
  },
  {
   "cell_type": "code",
   "execution_count": 55,
   "metadata": {},
   "outputs": [
    {
     "data": {
      "text/plain": [
       "array([151603712,  59945701,  53875128, 126340495,  97298878,  92107940,\n",
       "        48845802, 226212066,  65117175,  11373749], dtype=int64)"
      ]
     },
     "execution_count": 55,
     "metadata": {},
     "output_type": "execute_result"
    }
   ],
   "source": [
    "data_train.user_id.unique()[:10]"
   ]
  },
  {
   "cell_type": "markdown",
   "metadata": {},
   "source": [
    "### 8). Сравнение рекомендаций"
   ]
  },
  {
   "cell_type": "code",
   "execution_count": 76,
   "metadata": {},
   "outputs": [
    {
     "data": {
      "text/html": [
       "<div>\n",
       "<style scoped>\n",
       "    .dataframe tbody tr th:only-of-type {\n",
       "        vertical-align: middle;\n",
       "    }\n",
       "\n",
       "    .dataframe tbody tr th {\n",
       "        vertical-align: top;\n",
       "    }\n",
       "\n",
       "    .dataframe thead th {\n",
       "        text-align: right;\n",
       "    }\n",
       "</style>\n",
       "<table border=\"1\" class=\"dataframe\">\n",
       "  <thead>\n",
       "    <tr style=\"text-align: right;\">\n",
       "      <th></th>\n",
       "      <th>pop_base</th>\n",
       "      <th>w2v</th>\n",
       "      <th>tf_idf</th>\n",
       "      <th>FM</th>\n",
       "      <th>FM_w2v</th>\n",
       "      <th>FM_tfidf</th>\n",
       "      <th>user_test_games</th>\n",
       "      <th>user_train_games</th>\n",
       "    </tr>\n",
       "  </thead>\n",
       "  <tbody>\n",
       "    <tr>\n",
       "      <th>0</th>\n",
       "      <td>counterstrike global offensive</td>\n",
       "      <td>left 4 dead</td>\n",
       "      <td>left 4 dead</td>\n",
       "      <td>the elder scrolls v skyrim</td>\n",
       "      <td>portal 2</td>\n",
       "      <td>the elder scrolls v skyrim</td>\n",
       "      <td>the elder scrolls v skyrim</td>\n",
       "      <td>spore</td>\n",
       "    </tr>\n",
       "    <tr>\n",
       "      <th>1</th>\n",
       "      <td>unturned</td>\n",
       "      <td>killing floor</td>\n",
       "      <td>spore creepy cute parts pack</td>\n",
       "      <td>counterstrike global offensive</td>\n",
       "      <td>the witcher 3 wild hunt</td>\n",
       "      <td>unturned</td>\n",
       "      <td>fallout 4</td>\n",
       "      <td>fallout new vegas</td>\n",
       "    </tr>\n",
       "    <tr>\n",
       "      <th>2</th>\n",
       "      <td>warframe</td>\n",
       "      <td>halflife 2</td>\n",
       "      <td>counterstrike source</td>\n",
       "      <td>terraria</td>\n",
       "      <td>block n load</td>\n",
       "      <td>portal 2</td>\n",
       "      <td>left 4 dead</td>\n",
       "      <td>left 4 dead 2</td>\n",
       "    </tr>\n",
       "    <tr>\n",
       "      <th>3</th>\n",
       "      <td>portal 2</td>\n",
       "      <td>killing floor 2</td>\n",
       "      <td>halflife 2 episode one</td>\n",
       "      <td>borderlands 2</td>\n",
       "      <td>counterstrike global offensive</td>\n",
       "      <td>terraria</td>\n",
       "      <td>grand theft auto iv</td>\n",
       "      <td>huniepop</td>\n",
       "    </tr>\n",
       "    <tr>\n",
       "      <th>4</th>\n",
       "      <td>the elder scrolls v skyrim</td>\n",
       "      <td>portal 2</td>\n",
       "      <td>halflife 2 episode two</td>\n",
       "      <td>portal 2</td>\n",
       "      <td>mad max</td>\n",
       "      <td>borderlands 2</td>\n",
       "      <td>eldevin</td>\n",
       "      <td>path of exile</td>\n",
       "    </tr>\n",
       "    <tr>\n",
       "      <th>5</th>\n",
       "      <td>counterstrike</td>\n",
       "      <td>orion prelude</td>\n",
       "      <td>portal 2</td>\n",
       "      <td>warframe</td>\n",
       "      <td>unturned</td>\n",
       "      <td>counterstrike global offensive</td>\n",
       "      <td>None</td>\n",
       "      <td>poly bridge</td>\n",
       "    </tr>\n",
       "    <tr>\n",
       "      <th>6</th>\n",
       "      <td>terraria</td>\n",
       "      <td>sniper elite nazi zombie army</td>\n",
       "      <td>hoard</td>\n",
       "      <td>sid meiers civilization v</td>\n",
       "      <td>the witcher 2 assassins of kings enhanced edition</td>\n",
       "      <td>fallout 4</td>\n",
       "      <td>None</td>\n",
       "      <td>team fortress 2</td>\n",
       "    </tr>\n",
       "    <tr>\n",
       "      <th>7</th>\n",
       "      <td>portal</td>\n",
       "      <td>depth</td>\n",
       "      <td>depth</td>\n",
       "      <td>unturned</td>\n",
       "      <td>the elder scrolls v skyrim</td>\n",
       "      <td>planetside 2</td>\n",
       "      <td>None</td>\n",
       "      <td>tomb raider</td>\n",
       "    </tr>\n",
       "    <tr>\n",
       "      <th>8</th>\n",
       "      <td>the witcher 3 wild hunt</td>\n",
       "      <td>halflife 2 episode two</td>\n",
       "      <td>gas guzzlers extreme</td>\n",
       "      <td>payday 2</td>\n",
       "      <td>ark survival evolved</td>\n",
       "      <td>the witcher 2 assassins of kings enhanced edition</td>\n",
       "      <td>None</td>\n",
       "      <td>the banner saga</td>\n",
       "    </tr>\n",
       "    <tr>\n",
       "      <th>9</th>\n",
       "      <td>halflife 2</td>\n",
       "      <td>dying light</td>\n",
       "      <td>blockscape</td>\n",
       "      <td>torchlight ii</td>\n",
       "      <td>8bitmmo</td>\n",
       "      <td>portal</td>\n",
       "      <td>None</td>\n",
       "      <td>bioshock infinite</td>\n",
       "    </tr>\n",
       "  </tbody>\n",
       "</table>\n",
       "</div>"
      ],
      "text/plain": [
       "                         pop_base                            w2v  \\\n",
       "0  counterstrike global offensive                    left 4 dead   \n",
       "1                        unturned                  killing floor   \n",
       "2                        warframe                     halflife 2   \n",
       "3                        portal 2                killing floor 2   \n",
       "4      the elder scrolls v skyrim                       portal 2   \n",
       "5                   counterstrike                  orion prelude   \n",
       "6                        terraria  sniper elite nazi zombie army   \n",
       "7                          portal                          depth   \n",
       "8         the witcher 3 wild hunt         halflife 2 episode two   \n",
       "9                      halflife 2                    dying light   \n",
       "\n",
       "                         tf_idf                              FM  \\\n",
       "0                   left 4 dead      the elder scrolls v skyrim   \n",
       "1  spore creepy cute parts pack  counterstrike global offensive   \n",
       "2          counterstrike source                        terraria   \n",
       "3        halflife 2 episode one                   borderlands 2   \n",
       "4        halflife 2 episode two                        portal 2   \n",
       "5                      portal 2                        warframe   \n",
       "6                         hoard       sid meiers civilization v   \n",
       "7                         depth                        unturned   \n",
       "8          gas guzzlers extreme                        payday 2   \n",
       "9                    blockscape                   torchlight ii   \n",
       "\n",
       "                                              FM_w2v  \\\n",
       "0                                           portal 2   \n",
       "1                            the witcher 3 wild hunt   \n",
       "2                                       block n load   \n",
       "3                     counterstrike global offensive   \n",
       "4                                            mad max   \n",
       "5                                           unturned   \n",
       "6  the witcher 2 assassins of kings enhanced edition   \n",
       "7                         the elder scrolls v skyrim   \n",
       "8                               ark survival evolved   \n",
       "9                                            8bitmmo   \n",
       "\n",
       "                                            FM_tfidf  \\\n",
       "0                         the elder scrolls v skyrim   \n",
       "1                                           unturned   \n",
       "2                                           portal 2   \n",
       "3                                           terraria   \n",
       "4                                      borderlands 2   \n",
       "5                     counterstrike global offensive   \n",
       "6                                          fallout 4   \n",
       "7                                       planetside 2   \n",
       "8  the witcher 2 assassins of kings enhanced edition   \n",
       "9                                             portal   \n",
       "\n",
       "              user_test_games   user_train_games  \n",
       "0  the elder scrolls v skyrim              spore  \n",
       "1                   fallout 4  fallout new vegas  \n",
       "2                 left 4 dead      left 4 dead 2  \n",
       "3         grand theft auto iv           huniepop  \n",
       "4                     eldevin      path of exile  \n",
       "5                        None        poly bridge  \n",
       "6                        None    team fortress 2  \n",
       "7                        None        tomb raider  \n",
       "8                        None    the banner saga  \n",
       "9                        None  bioshock infinite  "
      ]
     },
     "execution_count": 76,
     "metadata": {},
     "output_type": "execute_result"
    }
   ],
   "source": [
    "# Пользователь\n",
    "user_id = 151603712\n",
    "# Соберем таблицу с поведением пользователя и рекомендациями, полученными различными методами\n",
    "rec_df = pd.DataFrame()\n",
    "rec_df[\"pop_base\"] = pred_popular_test[user_id]\n",
    "rec_df[\"w2v\"] = pred_w2v_test[user_id]\n",
    "rec_df[\"tf_idf\"] = pred_tfidf_test[user_id]\n",
    "rec_df[\"FM\"] = pred_fm_test[user_id]\n",
    "rec_df[\"FM_w2v\"] = pred_fm_w2v_test[user_id]\n",
    "rec_df[\"FM_tfidf\"] = pred_fm_tfidf_test[user_id]\n",
    "user_test = data_test[data_test.user_id == user_id].sort_values('play_hours', ascending=False)['item_name'].values.tolist()\n",
    "user_game_test = np.empty(10,dtype = object)\n",
    "user_game_test[0:len(user_test)] = user_test\n",
    "rec_df[\"user_test_games\"] = user_game_test\n",
    "rec_df[\"user_train_games\"] = data_train[data_train.user_id == user_id].sort_values('play_hours', ascending=False)['item_name'].iloc[0:10].values.tolist()\n",
    "rec_df.head(11)"
   ]
  },
  {
   "cell_type": "code",
   "execution_count": 77,
   "metadata": {},
   "outputs": [
    {
     "data": {
      "text/html": [
       "<div>\n",
       "<style scoped>\n",
       "    .dataframe tbody tr th:only-of-type {\n",
       "        vertical-align: middle;\n",
       "    }\n",
       "\n",
       "    .dataframe tbody tr th {\n",
       "        vertical-align: top;\n",
       "    }\n",
       "\n",
       "    .dataframe thead th {\n",
       "        text-align: right;\n",
       "    }\n",
       "</style>\n",
       "<table border=\"1\" class=\"dataframe\">\n",
       "  <thead>\n",
       "    <tr style=\"text-align: right;\">\n",
       "      <th></th>\n",
       "      <th>MAP@k train</th>\n",
       "      <th>MAP@k test</th>\n",
       "    </tr>\n",
       "  </thead>\n",
       "  <tbody>\n",
       "    <tr>\n",
       "      <th>popular base</th>\n",
       "      <td>0.312138</td>\n",
       "      <td>0.164455</td>\n",
       "    </tr>\n",
       "    <tr>\n",
       "      <th>word2vec</th>\n",
       "      <td>0.107700</td>\n",
       "      <td>0.048736</td>\n",
       "    </tr>\n",
       "    <tr>\n",
       "      <th>tf-idf</th>\n",
       "      <td>0.114937</td>\n",
       "      <td>0.046048</td>\n",
       "    </tr>\n",
       "    <tr>\n",
       "      <th>FM</th>\n",
       "      <td>0.536914</td>\n",
       "      <td>0.224789</td>\n",
       "    </tr>\n",
       "    <tr>\n",
       "      <th>FM + word2vec</th>\n",
       "      <td>0.509120</td>\n",
       "      <td>0.119303</td>\n",
       "    </tr>\n",
       "    <tr>\n",
       "      <th>FM + tf-idf</th>\n",
       "      <td>0.657007</td>\n",
       "      <td>0.218801</td>\n",
       "    </tr>\n",
       "  </tbody>\n",
       "</table>\n",
       "</div>"
      ],
      "text/plain": [
       "               MAP@k train  MAP@k test\n",
       "popular base      0.312138    0.164455\n",
       "word2vec          0.107700    0.048736\n",
       "tf-idf            0.114937    0.046048\n",
       "FM                0.536914    0.224789\n",
       "FM + word2vec     0.509120    0.119303\n",
       "FM + tf-idf       0.657007    0.218801"
      ]
     },
     "execution_count": 77,
     "metadata": {},
     "output_type": "execute_result"
    }
   ],
   "source": [
    "# Соберем таблицу сравнения метрик качества рекомендательных систем\n",
    "models_df = pd.DataFrame(columns=[\"MAP@k train\",\"MAP@k test\"])\n",
    "models_df.loc[\"popular base\"] = [mapk_train_pb,mapk_test_pb]\n",
    "models_df.loc[\"word2vec\"] = [mapk_train_w2v,mapk_test_w2v]\n",
    "models_df.loc[\"tf-idf\"] = [mapk_train_tfidf,mapk_test_tfidf]\n",
    "models_df.loc[\"FM\"] = [mapk_train_fm,mapk_test_fm]\n",
    "models_df.loc[\"FM + word2vec\"] = [mapk_train_fm_w2v,mapk_test_fm_w2v]\n",
    "models_df.loc[\"FM + tf-idf\"] = [mapk_train_fm_tfidf,mapk_test_fm_tfidf]\n",
    "models_df.head(10)\n"
   ]
  },
  {
   "cell_type": "markdown",
   "metadata": {},
   "source": [
    "### 9). Результаты\n",
    "\n",
    "Опробированы несколько вариантов рекомендательных систем. Лучшей по метрике точности на валидационной выборке оказался метод факторизации из LightFM на основе матрицы взаимодействий, затем уже LightFM + TF-IDF представления описаний игр, затем уже popar base подход. \n",
    "\n",
    "При этом подмешивание информации об описаниях игр не повысило качество модели LightFM, а в случае с эмбеддингами описаний, полученных с помощью word2vec, сильно понизило качество рекомендаций.\n",
    "\n",
    "Рекомендации по схожести наиболее используемых игр, дают достаточно неплохие рекомендации с точки зрения смысловой схожести игр. Однако, это, видимо, не является определяющим в выборе игр пользователями. Это становится понятно при просмотре списков игр - в них часто нет схожести между собой.\n",
    "\n",
    "Повысить качество модели можно, построив на основе новых признаков модель градиентного бустинга как регрессию на игровое время. В качестве признаков можно взять скалярное произведение векторов user и item из LightFM, LightFM+text, частотности игр, совстречаемости игр в наборах у игроков. "
   ]
  },
  {
   "cell_type": "code",
   "execution_count": null,
   "metadata": {},
   "outputs": [],
   "source": []
  }
 ],
 "metadata": {
  "kernelspec": {
   "display_name": "Python 3",
   "language": "python",
   "name": "python3"
  },
  "language_info": {
   "codemirror_mode": {
    "name": "ipython",
    "version": 3
   },
   "file_extension": ".py",
   "mimetype": "text/x-python",
   "name": "python",
   "nbconvert_exporter": "python",
   "pygments_lexer": "ipython3",
   "version": "3.7.4"
  }
 },
 "nbformat": 4,
 "nbformat_minor": 2
}
